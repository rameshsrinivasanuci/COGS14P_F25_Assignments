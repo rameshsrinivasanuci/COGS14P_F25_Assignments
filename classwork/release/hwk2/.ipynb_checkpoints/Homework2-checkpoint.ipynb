{
 "cells": [
  {
   "cell_type": "markdown",
   "metadata": {},
   "source": [
    "Before you turn this problem in, make sure everything runs as expected. First, **restart the kernel** (in the menubar, select  **Restart** and **Clear All Outputs**, then select **Run All**).\n",
    "\n",
    "Make sure you fill in any place that says `YOUR CODE HERE` or \"YOUR ANSWER HERE\", as well as your name and collaborators below:"
   ]
  },
  {
   "cell_type": "code",
   "execution_count": null,
   "metadata": {},
   "outputs": [],
   "source": [
    "NAME = \"\"\n",
    "COLLABORATORS = \"\""
   ]
  },
  {
   "cell_type": "markdown",
   "metadata": {},
   "source": [
    "---"
   ]
  },
  {
   "cell_type": "markdown",
   "metadata": {
    "tags": []
   },
   "source": [
    "# Homework 2 - Numpy Array Methods and Functions (45 pts)\n",
    "\n",
    "* In order for automatic grading and validation to work, it is very important that you make use of the exact variable names specified in the problem statement.\n",
    "* I will always place these variable names that must be used for automatic grading in **bold**\n",
    "* One of the goal of this assignment is for you to explore some numpy functions on your own.  \n",
    "* Specifically, I will be asking you to look up how to use some functions in numpy rather than providing examples.  \n",
    "* For these problem, I have hidden the tests (because otherwise you wont have to do research on the method/function).\n",
    "* To look up a function, i usually type in `numpy` and the function I am interested in e.g., `mean` in the browser search box, and I go look at the numpy docs.  \n",
    "* You dont have to know the exact name, just have key words and you will find it.\n",
    "* You can also type in complete sentences like, \"How do I compute mean in numpy?\""
   ]
  },
  {
   "cell_type": "markdown",
   "metadata": {
    "tags": []
   },
   "source": [
    "* Don't forget to  import the numpy module, and for this exercise, let's import the random submodule as a separate import "
   ]
  },
  {
   "cell_type": "code",
   "execution_count": null,
   "metadata": {},
   "outputs": [],
   "source": [
    "import numpy as np\n",
    "from numpy import random"
   ]
  },
  {
   "cell_type": "markdown",
   "metadata": {
    "tags": []
   },
   "source": [
    "* Initialize the random number generator with a seed of your choice.  Enter any integer after the equal sign"
   ]
  },
  {
   "cell_type": "code",
   "execution_count": null,
   "metadata": {},
   "outputs": [],
   "source": [
    "rng = random.default_rng(seed = 108)"
   ]
  },
  {
   "cell_type": "markdown",
   "metadata": {
    "tags": []
   },
   "source": [
    "1. Generate a vector **v** with 20 random floating point numbers ranging from 0 to 100. "
   ]
  },
  {
   "cell_type": "code",
   "execution_count": null,
   "metadata": {
    "deletable": false,
    "nbgrader": {
     "cell_type": "code",
     "checksum": "a3215b83c3ca289f69a32596c8891dc7",
     "grade": false,
     "grade_id": "cell-949dd6bbdddf3f52",
     "locked": false,
     "schema_version": 3,
     "solution": true,
     "task": false
    },
    "tags": []
   },
   "outputs": [],
   "source": [
    "# YOUR CODE HERE"
   ]
  },
  {
   "cell_type": "code",
   "execution_count": null,
   "metadata": {
    "deletable": false,
    "editable": false,
    "nbgrader": {
     "cell_type": "code",
     "checksum": "eb0a12bfdd700778f2ba97cc5eeaf835",
     "grade": true,
     "grade_id": "cell-a1c300a8a17bc32e",
     "locked": true,
     "points": 2,
     "schema_version": 3,
     "solution": false,
     "task": false
    },
    "tags": []
   },
   "outputs": [],
   "source": [
    "assert v.size == 20\n",
    "assert v.dtype == 'float64'"
   ]
  },
  {
   "cell_type": "markdown",
   "metadata": {
    "tags": []
   },
   "source": [
    "2. Create a variable **max_v** which contains the maximum value in **v**, and the variable **index_max_v** which contatins the index of the element in the array v with maximum value."
   ]
  },
  {
   "cell_type": "code",
   "execution_count": null,
   "metadata": {
    "deletable": false,
    "nbgrader": {
     "cell_type": "code",
     "checksum": "1f969f6ff19fc03469ed22aefd48b087",
     "grade": false,
     "grade_id": "cell-899ca7f30b7c74bb",
     "locked": false,
     "schema_version": 3,
     "solution": true,
     "task": false
    },
    "tags": []
   },
   "outputs": [],
   "source": [
    "# YOUR CODE HERE"
   ]
  },
  {
   "cell_type": "code",
   "execution_count": null,
   "metadata": {
    "deletable": false,
    "editable": false,
    "nbgrader": {
     "cell_type": "code",
     "checksum": "6292e60da92855c0b7a524fa047dc581",
     "grade": true,
     "grade_id": "cell-e2d44eba4fd02ec9",
     "locked": true,
     "points": 3,
     "schema_version": 3,
     "solution": false,
     "task": false
    }
   },
   "outputs": [],
   "source": [
    "assert v[index_max_v] == max_v"
   ]
  },
  {
   "cell_type": "markdown",
   "metadata": {},
   "source": [
    "3. Generate a matrix **M** with 5 rows and 3 columns containing random integers with values ranging from -10 to 10. Make sure your range includes -10 and 10.    "
   ]
  },
  {
   "cell_type": "code",
   "execution_count": null,
   "metadata": {
    "deletable": false,
    "nbgrader": {
     "cell_type": "code",
     "checksum": "6ea8a841fd9aa3ee19c6c7e4604c18c8",
     "grade": false,
     "grade_id": "cell-67e5439ba4f59d6f",
     "locked": false,
     "schema_version": 3,
     "solution": true,
     "task": false
    }
   },
   "outputs": [],
   "source": [
    "# YOUR CODE HERE"
   ]
  },
  {
   "cell_type": "code",
   "execution_count": null,
   "metadata": {
    "deletable": false,
    "editable": false,
    "nbgrader": {
     "cell_type": "code",
     "checksum": "a1ef0ae160ffc3c0ee5a5c124f03e634",
     "grade": true,
     "grade_id": "cell-701b6c2d5cdb702e",
     "locked": true,
     "points": 2,
     "schema_version": 3,
     "solution": false,
     "task": false
    }
   },
   "outputs": [],
   "source": [
    "assert M.shape[0] == 5\n",
    "assert M.shape[1] == 3"
   ]
  },
  {
   "cell_type": "markdown",
   "metadata": {
    "tags": []
   },
   "source": [
    "4. Create a variable **M_colmin** which is an array that contains the minimum value of each column of M.  Create a variable **M2_min** which contains the minimum value of the 2nd column of M "
   ]
  },
  {
   "cell_type": "code",
   "execution_count": null,
   "metadata": {
    "deletable": false,
    "nbgrader": {
     "cell_type": "code",
     "checksum": "c93eb177669f44213b0be66c0917a8af",
     "grade": false,
     "grade_id": "cell-536857c6d70008ea",
     "locked": false,
     "schema_version": 3,
     "solution": true,
     "task": false
    },
    "tags": []
   },
   "outputs": [],
   "source": [
    "# YOUR CODE HERE"
   ]
  },
  {
   "cell_type": "code",
   "execution_count": null,
   "metadata": {
    "deletable": false,
    "editable": false,
    "nbgrader": {
     "cell_type": "code",
     "checksum": "271fc69bad8b9b308c5d9ccc4cee3b63",
     "grade": true,
     "grade_id": "cell-4c6f059b37e7c422",
     "locked": true,
     "points": 3,
     "schema_version": 3,
     "solution": false,
     "task": false
    },
    "tags": []
   },
   "outputs": [],
   "source": [
    "assert M_colmin.size == 3"
   ]
  },
  {
   "cell_type": "markdown",
   "metadata": {
    "tags": []
   },
   "source": [
    "### Computing Summary Statistics using numpy\n",
    "\n",
    "One of the goal of this assignment is for you to explore some numpy functions on your own.  Specifically, I will be asking you to look up in the either the numpy documentation, or by simply searching the web how to use some functions in numpy that compute simple summary statisics of data. \n",
    "\n",
    "* `mean`, compute the mean or average of data array \n",
    "* `median`, compute the middle value of a data array  \n",
    "* `percentile`, compute the value of the q-th percentile of an array  \n",
    "\n",
    "I am not going to provide any instruction on how to use them here.  The challenge for you here is to figure it out\n",
    "for yourself (you can ask for help after you have tried if it doesnt work.)  The internet is your friend.  \n"
   ]
  },
  {
   "cell_type": "markdown",
   "metadata": {
    "tags": []
   },
   "source": [
    "5.  Make a random number generator object called `rng` with seed = 77.  This is critical or the tests will fail!"
   ]
  },
  {
   "cell_type": "code",
   "execution_count": null,
   "metadata": {
    "deletable": false,
    "nbgrader": {
     "cell_type": "code",
     "checksum": "c6f0495779ed1e74b4c86622912051a1",
     "grade": false,
     "grade_id": "cell-77926453c098db03",
     "locked": false,
     "schema_version": 3,
     "solution": true,
     "task": false
    },
    "tags": []
   },
   "outputs": [],
   "source": [
    "# YOUR CODE HERE"
   ]
  },
  {
   "cell_type": "code",
   "execution_count": null,
   "metadata": {
    "deletable": false,
    "editable": false,
    "nbgrader": {
     "cell_type": "code",
     "checksum": "6c7edd1caa2b5a55a474f9f6b5ae22ab",
     "grade": true,
     "grade_id": "cell-83c35258e2445e1c",
     "locked": true,
     "points": 2,
     "schema_version": 3,
     "solution": false,
     "task": false
    },
    "tags": []
   },
   "outputs": [],
   "source": [
    "assert rng.integers(-9,9,1) == -8"
   ]
  },
  {
   "cell_type": "markdown",
   "metadata": {
    "tags": []
   },
   "source": [
    "6.  Generate a vector **u** containing 50 random numbers from a uniform distribution ranging from 0 to 100.  Compute variables called **mean_u** and **median_u** that contain the mean and median of u using numpy functions `mean` and `median`. "
   ]
  },
  {
   "cell_type": "code",
   "execution_count": null,
   "metadata": {
    "deletable": false,
    "nbgrader": {
     "cell_type": "code",
     "checksum": "ca1c2bf764da2e0997cdc460ae572add",
     "grade": false,
     "grade_id": "cell-8b476f0c0588d39d",
     "locked": false,
     "schema_version": 3,
     "solution": true,
     "task": false
    },
    "tags": []
   },
   "outputs": [],
   "source": [
    "# YOUR CODE HERE"
   ]
  },
  {
   "cell_type": "code",
   "execution_count": null,
   "metadata": {
    "deletable": false,
    "editable": false,
    "nbgrader": {
     "cell_type": "code",
     "checksum": "5d995de8b696ef1e6c6de262662a8c9e",
     "grade": true,
     "grade_id": "cell-c73933662d262383",
     "locked": true,
     "points": 3,
     "schema_version": 3,
     "solution": false,
     "task": false
    },
    "tags": []
   },
   "outputs": [],
   "source": [
    "assert np.size(u) == 50"
   ]
  },
  {
   "cell_type": "markdown",
   "metadata": {
    "tags": []
   },
   "source": [
    "7.  Generate a vector **v** containing 1000 random floating point numbers from a uniform distribution ranging from 0 to 100.  The objective of this exercise is to compute the 10th, 25th, 50th, 75th, and 90th percentile of **v** using `percentile`. The results should be placed in either an array or a list of length 5 called **v_percentiles**.  So, if i look at v_percentiles[0] it should be the 10th percentile, v_percentiles[1] should be 25th percentile, etc. The answers should make sense to you as approximately corresponding fractions of 100.    \n"
   ]
  },
  {
   "cell_type": "code",
   "execution_count": null,
   "metadata": {
    "deletable": false,
    "nbgrader": {
     "cell_type": "code",
     "checksum": "7ece6009edeb7d621c6a0eb0a72c0436",
     "grade": false,
     "grade_id": "cell-7233acdb712f93c7",
     "locked": false,
     "schema_version": 3,
     "solution": true,
     "task": false
    },
    "tags": []
   },
   "outputs": [],
   "source": [
    "# YOUR CODE HERE"
   ]
  },
  {
   "cell_type": "code",
   "execution_count": null,
   "metadata": {
    "deletable": false,
    "editable": false,
    "nbgrader": {
     "cell_type": "code",
     "checksum": "50ef99450941bea4635d75aac58ee34f",
     "grade": true,
     "grade_id": "cell-4b1c6fbb9a2022e6",
     "locked": true,
     "points": 3,
     "schema_version": 3,
     "solution": false,
     "task": false
    },
    "tags": []
   },
   "outputs": [],
   "source": [
    "assert np.size(v) == 1000"
   ]
  },
  {
   "cell_type": "markdown",
   "metadata": {
    "tags": []
   },
   "source": [
    "8.  Generate a matrix **dice** containing 100 random integers ranging from 1-6 for each of 9 dice.  There should be 100 rows and 9 columns, mimicking 100 rolls of 9 dice.    Compute the mean and median for each die (column) in variables named **dice_median**, **dice_mean**. . Hint: you need to specify the *axis* as explained in these functions   "
   ]
  },
  {
   "cell_type": "code",
   "execution_count": null,
   "metadata": {
    "deletable": false,
    "nbgrader": {
     "cell_type": "code",
     "checksum": "175d95f4a5c786fce12878d82706b739",
     "grade": false,
     "grade_id": "cell-285c1ba6cc4a76dc",
     "locked": false,
     "schema_version": 3,
     "solution": true,
     "task": false
    },
    "tags": []
   },
   "outputs": [],
   "source": [
    "# YOUR CODE HERE"
   ]
  },
  {
   "cell_type": "code",
   "execution_count": null,
   "metadata": {
    "deletable": false,
    "editable": false,
    "nbgrader": {
     "cell_type": "code",
     "checksum": "5f41b4bfbf0e4fc852db36b51c1988f4",
     "grade": true,
     "grade_id": "cell-a17afefe6e70b188",
     "locked": true,
     "points": 3,
     "schema_version": 3,
     "solution": false,
     "task": false
    },
    "tags": []
   },
   "outputs": [],
   "source": [
    "assert np.size(dice_mean) == 9 "
   ]
  },
  {
   "cell_type": "markdown",
   "metadata": {
    "tags": []
   },
   "source": [
    "9. Using matrix **dice** generated in the problem above, compute the mean and median for each roll (row) of 9 dice as **roll_mean** and **roll_median**.   "
   ]
  },
  {
   "cell_type": "code",
   "execution_count": null,
   "metadata": {
    "deletable": false,
    "nbgrader": {
     "cell_type": "code",
     "checksum": "211f1676d4ceebc9b53d336a9e823456",
     "grade": false,
     "grade_id": "cell-5e94a56d30b45dc2",
     "locked": false,
     "schema_version": 3,
     "solution": true,
     "task": false
    },
    "tags": []
   },
   "outputs": [],
   "source": [
    "# YOUR CODE HERE"
   ]
  },
  {
   "cell_type": "code",
   "execution_count": null,
   "metadata": {
    "deletable": false,
    "editable": false,
    "nbgrader": {
     "cell_type": "code",
     "checksum": "99170226ac45908a64fb8d074c938187",
     "grade": true,
     "grade_id": "cell-4f00670b7db8e0e7",
     "locked": true,
     "points": 3,
     "schema_version": 3,
     "solution": false,
     "task": false
    },
    "tags": []
   },
   "outputs": [],
   "source": [
    "assert np.size(roll_mean) == 100 "
   ]
  },
  {
   "cell_type": "markdown",
   "metadata": {},
   "source": [
    "10. Create an array **v** containing 20 random integers between 10 and 99.  Find the index of the largest element of **v** and call it **imax**.  Replace the largest element of **v** with the value -1000.    "
   ]
  },
  {
   "cell_type": "code",
   "execution_count": null,
   "metadata": {
    "deletable": false,
    "nbgrader": {
     "cell_type": "code",
     "checksum": "f7017eab5d9c2e59a5d0ae1e257f19ee",
     "grade": false,
     "grade_id": "cell-55f6147e15a27d41",
     "locked": false,
     "schema_version": 3,
     "solution": true,
     "task": false
    }
   },
   "outputs": [],
   "source": [
    "# YOUR CODE HERE"
   ]
  },
  {
   "cell_type": "code",
   "execution_count": null,
   "metadata": {
    "deletable": false,
    "editable": false,
    "nbgrader": {
     "cell_type": "code",
     "checksum": "aed6a655cee18d1125908136cc7bbf2a",
     "grade": true,
     "grade_id": "cell-4adda8593055c3ec",
     "locked": true,
     "points": 3,
     "schema_version": 3,
     "solution": false,
     "task": false
    }
   },
   "outputs": [],
   "source": [
    "assert imax >= 0\n"
   ]
  },
  {
   "cell_type": "markdown",
   "metadata": {},
   "source": [
    "11.  Create list **x** containing the following numbers : 6, -5, -3.5, 10, 21.  Convert list **x** into a numpy array **x**.  Sort the array **x** into ascending (increasing) order.   The sorted result should be stored in the array **x**. (Remember = means, place the answer in the variable to the left of the equality).  "
   ]
  },
  {
   "cell_type": "code",
   "execution_count": null,
   "metadata": {
    "deletable": false,
    "nbgrader": {
     "cell_type": "code",
     "checksum": "859d9f615b7b184529c0454646a3db2d",
     "grade": false,
     "grade_id": "cell-91e53d4de169f0e8",
     "locked": false,
     "schema_version": 3,
     "solution": true,
     "task": false
    }
   },
   "outputs": [],
   "source": [
    "# YOUR CODE HERE"
   ]
  },
  {
   "cell_type": "code",
   "execution_count": null,
   "metadata": {
    "deletable": false,
    "editable": false,
    "nbgrader": {
     "cell_type": "code",
     "checksum": "e21c0a5fd6fb1821f3d354984712022c",
     "grade": true,
     "grade_id": "cell-c1917bcc61a315bd",
     "locked": true,
     "points": 3,
     "schema_version": 3,
     "solution": false,
     "task": false
    }
   },
   "outputs": [],
   "source": [
    "assert x.size == 5\n",
    "assert x[-1] == 21\n",
    "assert x[0] == -5"
   ]
  },
  {
   "cell_type": "markdown",
   "metadata": {},
   "source": [
    "12. The array **height** and **weight** provide data on 5 males height (in inches) and weight (in lbs).  Sort **height** in increasing order and sort **weight** in the same order that was used to sort **height**, so that each subject is in the same position in both lists.  The resulting sorted lists should be stored in **height** and **weight**  "
   ]
  },
  {
   "cell_type": "code",
   "execution_count": null,
   "metadata": {
    "deletable": false,
    "nbgrader": {
     "cell_type": "code",
     "checksum": "661fca707e360c1eff82575aa48e7ace",
     "grade": false,
     "grade_id": "cell-6bda4567cc672bbd",
     "locked": false,
     "schema_version": 3,
     "solution": true,
     "task": false
    }
   },
   "outputs": [],
   "source": [
    "height = np.array([70,60,66,77,65])\n",
    "weight = np.array([160,120,150,190,165])\n",
    "# YOUR CODE HERE"
   ]
  },
  {
   "cell_type": "code",
   "execution_count": null,
   "metadata": {
    "deletable": false,
    "editable": false,
    "nbgrader": {
     "cell_type": "code",
     "checksum": "9431df41536f892cb978190c559fb535",
     "grade": true,
     "grade_id": "cell-a6b7aef74fdea78b",
     "locked": true,
     "points": 2,
     "schema_version": 3,
     "solution": false,
     "task": false
    }
   },
   "outputs": [],
   "source": [
    "assert height[0] < height[-1]"
   ]
  },
  {
   "cell_type": "code",
   "execution_count": null,
   "metadata": {
    "deletable": false,
    "editable": false,
    "nbgrader": {
     "cell_type": "code",
     "checksum": "0cd953b37f22bcec42662ba9e3062e4f",
     "grade": true,
     "grade_id": "cell-47ae0f959f468505",
     "locked": true,
     "points": 3,
     "schema_version": 3,
     "solution": false,
     "task": false
    }
   },
   "outputs": [],
   "source": [
    "assert weight[1] == 165"
   ]
  },
  {
   "cell_type": "markdown",
   "metadata": {},
   "source": [
    "13. Create a function called **logn** which computes the log of a number **x** with any base **n**.  \n",
    "Recall that you can compute the log with any base using the base 10 log as \n",
    "\n",
    "$ log_n(x) = \\frac{log_{10}(x)}{log_{10}(n)} $  \n",
    "\n",
    "The function **logn** should have input arguments **x** and **n** and should return the value of the logarithm. The base 10 log function can be accessed as `np.log10`"
   ]
  },
  {
   "cell_type": "code",
   "execution_count": null,
   "metadata": {
    "deletable": false,
    "nbgrader": {
     "cell_type": "code",
     "checksum": "70deb2a8bcda3a4d88c27304abe9dbc8",
     "grade": false,
     "grade_id": "cell-2cad7741967d857d",
     "locked": false,
     "schema_version": 3,
     "solution": true,
     "task": false
    }
   },
   "outputs": [],
   "source": [
    "# YOUR CODE HERE"
   ]
  },
  {
   "cell_type": "code",
   "execution_count": null,
   "metadata": {
    "deletable": false,
    "editable": false,
    "nbgrader": {
     "cell_type": "code",
     "checksum": "014346d25e3f3c8747fa288ec0c66939",
     "grade": true,
     "grade_id": "cell-16fad55aafadeaaf",
     "locked": true,
     "points": 3,
     "schema_version": 3,
     "solution": false,
     "task": false
    }
   },
   "outputs": [],
   "source": [
    "log_n = logn(4,2)\n",
    "assert log_n == 2\n",
    "log_n = logn(27,3)\n",
    "assert log_n == 3"
   ]
  },
  {
   "cell_type": "markdown",
   "metadata": {},
   "source": [
    "14.  Write a function called **circle_area** that computes the area of a circle given its radius **r**, using this formula\n",
    "$$ A = \\pi r^2 $$\n",
    "The function should have one input argument (**r**) and return the area **A**\n",
    "The input argument **r** should take a default value of 1.  \n",
    "The value of pi can be obtained from `np.pi` \n",
    "After writing and executing the definition of the function, test that it works with the three tests below "
   ]
  },
  {
   "cell_type": "code",
   "execution_count": null,
   "metadata": {
    "deletable": false,
    "nbgrader": {
     "cell_type": "code",
     "checksum": "efb8a8009556bc87666a14a2e1ccc588",
     "grade": false,
     "grade_id": "cell-b8e082e9caeb53b5",
     "locked": false,
     "schema_version": 3,
     "solution": true,
     "task": false
    }
   },
   "outputs": [],
   "source": [
    "# YOUR CODE HERE"
   ]
  },
  {
   "cell_type": "code",
   "execution_count": null,
   "metadata": {
    "deletable": false,
    "editable": false,
    "nbgrader": {
     "cell_type": "code",
     "checksum": "060870869606591834ffd695602d2470",
     "grade": true,
     "grade_id": "cell-1a15bb02e92343e4",
     "locked": true,
     "points": 1,
     "schema_version": 3,
     "solution": false,
     "task": false
    }
   },
   "outputs": [],
   "source": [
    "r = 2\n",
    "Area  = circle_area(r) \n",
    "assert Area == np.pi*r**2"
   ]
  },
  {
   "cell_type": "code",
   "execution_count": null,
   "metadata": {
    "deletable": false,
    "editable": false,
    "nbgrader": {
     "cell_type": "code",
     "checksum": "7afd628c78bde5abdb65f0be26625027",
     "grade": true,
     "grade_id": "cell-fa40f6f0fccaffb7",
     "locked": true,
     "points": 2,
     "schema_version": 3,
     "solution": false,
     "task": false
    }
   },
   "outputs": [],
   "source": [
    "Area = circle_area()\n",
    "assert Area == np.pi*1**2 "
   ]
  },
  {
   "cell_type": "code",
   "execution_count": null,
   "metadata": {
    "deletable": false,
    "editable": false,
    "nbgrader": {
     "cell_type": "code",
     "checksum": "4eb2f55c23e0dfae08b8f7cb583ffbe8",
     "grade": true,
     "grade_id": "cell-eb8a5976f6339985",
     "locked": true,
     "points": 1,
     "schema_version": 3,
     "solution": false,
     "task": false
    }
   },
   "outputs": [],
   "source": [
    "Area = circle_area(r=3)\n",
    "assert Area == np.pi*3**2"
   ]
  },
  {
   "cell_type": "markdown",
   "metadata": {},
   "source": [
    "15.  Write a function called **cylinder_area** that computes the surface area of a the cylinder given input arguments, radius (**r**) and height (**h**).  \n",
    "\n",
    "The surface area of the cylinder is the area of the top and the bottom (both circles of radius **r**) added to area of the side of the cylinder.\n",
    "\n",
    "The area of the side of the cylinder is given as $2 \\pi rh$ where **h** is the height of the cylinder \n",
    "\n",
    "Your new function **cylinder_area** should make use of the function **circle_area** to get the area of the top and bottom of the cylinder.  "
   ]
  },
  {
   "cell_type": "code",
   "execution_count": null,
   "metadata": {
    "deletable": false,
    "nbgrader": {
     "cell_type": "code",
     "checksum": "417856a08e72587f313ee476058debeb",
     "grade": false,
     "grade_id": "cell-49b9912d6f15a4cb",
     "locked": false,
     "schema_version": 3,
     "solution": true,
     "task": false
    }
   },
   "outputs": [],
   "source": [
    "# YOUR CODE HERE"
   ]
  },
  {
   "cell_type": "code",
   "execution_count": null,
   "metadata": {
    "deletable": false,
    "editable": false,
    "nbgrader": {
     "cell_type": "code",
     "checksum": "1569332b769ee772d8052a0733f500f2",
     "grade": true,
     "grade_id": "cell-37a43daa410f31df",
     "locked": true,
     "points": 3,
     "schema_version": 3,
     "solution": false,
     "task": false
    }
   },
   "outputs": [],
   "source": [
    "assert cylinder_area(r=2,h=1) == 12*np.pi"
   ]
  }
 ],
 "metadata": {
  "kernelspec": {
   "display_name": "Python 3 (ipykernel)",
   "language": "python",
   "name": "python3"
  },
  "language_info": {
   "codemirror_mode": {
    "name": "ipython",
    "version": 3
   },
   "file_extension": ".py",
   "mimetype": "text/x-python",
   "name": "python",
   "nbconvert_exporter": "python",
   "pygments_lexer": "ipython3",
   "version": "3.13.5"
  }
 },
 "nbformat": 4,
 "nbformat_minor": 4
}
