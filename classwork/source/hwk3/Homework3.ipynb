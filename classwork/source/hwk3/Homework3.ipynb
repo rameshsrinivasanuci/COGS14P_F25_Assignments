{
 "cells": [
  {
   "cell_type": "markdown",
   "metadata": {},
   "source": [
    "# Homework 3 \n",
    "\n",
    "* Practice some of the fundamentals of writing and using for loops. \n",
    "* Make some basic line using `matplotlib` and the `pyplot` submodule\n",
    "\n"
   ]
  },
  {
   "cell_type": "code",
   "execution_count": 1,
   "metadata": {},
   "outputs": [],
   "source": [
    "import numpy as np\n",
    "from matplotlib import pyplot as plt\n",
    "from numpy import random"
   ]
  },
  {
   "cell_type": "markdown",
   "metadata": {},
   "source": [
    "1. Write a function **cummean**, which computes the cumulative mean of any array provided as an input argument **numbers**.   The function returns an array whose \n",
    "* first element is the mean of the first element of **numbers**.  \n",
    "* second element is the mean of the first 2 elements of **numbers**\n",
    "* The third element is the mean of the first 3 elements of **numbers** \n",
    " .... (keep going)\n",
    "* last element is the mean of all the elements of **numbers** \n",
    "\n",
    "The function should return an array of cumulative means where each element adds one more entry of **numbers** to the mean.    "
   ]
  },
  {
   "cell_type": "code",
   "execution_count": 2,
   "metadata": {
    "nbgrader": {
     "grade": false,
     "grade_id": "cell-cd812e0e45fad54d",
     "locked": false,
     "schema_version": 3,
     "solution": true,
     "task": false
    }
   },
   "outputs": [],
   "source": [
    "### BEGIN SOLUTION\n",
    "def cummean(numbers):\n",
    "    n = numbers.size\n",
    "    numbermeans = np.zeros(n)\n",
    "    for j in range(n):\n",
    "        numbermeans[j] = np.mean(numbers[0:j+1])\n",
    "    return numbermeans\n",
    "### END SOLUTION "
   ]
  },
  {
   "cell_type": "code",
   "execution_count": 3,
   "metadata": {
    "nbgrader": {
     "grade": true,
     "grade_id": "cell-3c6235b56fcd687c",
     "locked": true,
     "points": 5,
     "schema_version": 3,
     "solution": false,
     "task": false
    }
   },
   "outputs": [],
   "source": [
    "rng = random.default_rng(seed = 1112)\n",
    "numbers = rng.uniform(0,1,1000)\n",
    "means = cummean(numbers)\n",
    "assert np.isclose(means[3],0.64,rtol = 0.01)\n",
    "assert np.isclose(means[99],0.43,rtol = 0.01)\n",
    "assert np.isclose(means[499],0.49,rtol = 0.01)"
   ]
  },
  {
   "cell_type": "markdown",
   "metadata": {},
   "source": [
    "2. Grading Problem. You get to write my code to make the final grades in this class. \n",
    "\n",
    "Your grade is based on 3 categories - \n",
    "* Classwork 40% \n",
    "* Tests 45%\n",
    "* Homework 15%\n",
    "\n",
    "As an example here are the grades for 5 students in each category\n",
    "\n",
    "* classwork = [80, 95, 85, 55, 95]\n",
    "* tests = [75, 90,90, 70,95]\n",
    "* homework = [100, 90,95,90,95]\n",
    "\n",
    "The grading scale is \n",
    "\n",
    "* A: finalgrade >= 89   \n",
    "* B: finalgrade >= 79   \n",
    "* C: finalgrade >= 69   \n",
    "* D: finalgrade >= 59\n",
    "* F: final grade < 60    \n",
    "\n",
    "Write a function that takes in lists (or arrays) **classwork**, **tests**, **homework**, and returns the final student letter grades.   "
   ]
  },
  {
   "cell_type": "code",
   "execution_count": 4,
   "metadata": {
    "nbgrader": {
     "grade": false,
     "grade_id": "cell-d2b2deefa1a04793",
     "locked": false,
     "schema_version": 3,
     "solution": true,
     "task": false
    }
   },
   "outputs": [],
   "source": [
    "### BEGIN SOLUTION\n",
    "def makegrades(classwork,tests,homework):\n",
    "    classwork = np.array(classwork)\n",
    "    tests = np.array(tests)\n",
    "    homework = np.array(homework)\n",
    "    finalgrade = 0.4*classwork+0.45*tests+0.15*homework\n",
    "    nstudents = finalgrade.size\n",
    "    lettergrade = list()\n",
    "    for j in range(nstudents):\n",
    "        if finalgrade[j] >= 89:\n",
    "            lettergrade.append('A')\n",
    "        elif finalgrade[j] >= 79:\n",
    "            lettergrade.append('B')\n",
    "        elif finalgrade[j] >= 69:\n",
    "            lettergrade.append('C')\n",
    "        elif finalgrade[j] >= 59:\n",
    "            lettergrade.append('D')\n",
    "        else:\n",
    "            lettergrade.append('F')\n",
    "    return lettergrade\n",
    "### END SOLUTION"
   ]
  },
  {
   "cell_type": "code",
   "execution_count": 5,
   "metadata": {
    "nbgrader": {
     "grade": true,
     "grade_id": "cell-a5969987b9b779a9",
     "locked": true,
     "points": 5,
     "schema_version": 3,
     "solution": false,
     "task": false
    }
   },
   "outputs": [
    {
     "name": "stdout",
     "output_type": "stream",
     "text": [
      "['B', 'A', 'B', 'D', 'A']\n"
     ]
    }
   ],
   "source": [
    "classwork = np.array([80, 95, 85, 70, 95])\n",
    "tests = np.array([75, 90,90, 55,95])\n",
    "homework = np.array([100, 90,95,90,95])\n",
    "lettergrade = makegrades(classwork,tests,homework)\n",
    "print(lettergrade)\n",
    "assert len(lettergrade) == 5\n",
    "assert lettergrade[0] == 'B'\n",
    "assert lettergrade[-2] == 'D'"
   ]
  },
  {
   "cell_type": "markdown",
   "metadata": {},
   "source": [
    " 3. In your first year on a job you earn a starting salary.  *Every other year* your salary goes up by a fraction increase.  Make a function **future_salary** that returns an array that has your salary for every year up to a number of years provided as an argument to the function.  The input arguments to the function are the starting salary, increase (as a fraction) and number of years.   "
   ]
  },
  {
   "cell_type": "code",
   "execution_count": 6,
   "metadata": {
    "nbgrader": {
     "grade": false,
     "grade_id": "cell-23c4db18cee6cf3b",
     "locked": false,
     "schema_version": 3,
     "solution": true,
     "task": false
    }
   },
   "outputs": [],
   "source": [
    "### BEGIN SOLUTION \n",
    "def future_salary(starting,increase,nyears):\n",
    "    salary = np.zeros(nyears)\n",
    "    salary[0] = starting\n",
    "    for j in range(1,nyears):\n",
    "        if j%2 == 0:\n",
    "            new_salary = salary[j-1]*(1+increase)\n",
    "        else:\n",
    "            new_salary = salary[j-1]\n",
    "        salary[j]=new_salary\n",
    "    return salary \n",
    "### END SOLUTION"
   ]
  },
  {
   "cell_type": "code",
   "execution_count": 7,
   "metadata": {
    "nbgrader": {
     "grade": true,
     "grade_id": "cell-afca405ddb47060d",
     "locked": true,
     "points": 4,
     "schema_version": 3,
     "solution": false,
     "task": false
    }
   },
   "outputs": [],
   "source": [
    "nyears = 5\n",
    "increase = 0.1 \n",
    "starting = 100000\n",
    "salary = future_salary(starting,increase,nyears)\n",
    "assert len(salary)==nyears\n",
    "assert salary[0] == salary[1]\n",
    "assert salary[-1] > salary[-2]\n",
    "assert np.isclose(salary[2],110000,rtol=0.0001)"
   ]
  },
  {
   "cell_type": "code",
   "execution_count": 8,
   "metadata": {
    "nbgrader": {
     "grade": true,
     "grade_id": "cell-005e37989b442134",
     "locked": true,
     "points": 4,
     "schema_version": 3,
     "solution": false,
     "task": false
    }
   },
   "outputs": [],
   "source": [
    "nyears = 6\n",
    "increase = 0.15 \n",
    "starting = 40000\n",
    "salary = future_salary(starting,increase,nyears)\n",
    "assert len(salary)==nyears\n",
    "assert salary[0] == salary[1]\n",
    "assert salary[-1] == salary[-2]\n",
    "assert np.isclose(salary[-1],52900,rtol=0.0001)"
   ]
  },
  {
   "cell_type": "markdown",
   "metadata": {},
   "source": [
    "4. The sigmoid function is invaluable in both psychology and neuroscience research and also in artificial intelligence.\n",
    "The equation for a sigmoid function is\n",
    "$$ s(x) = \\frac{e^{ax}}{e^{ax}+1} $$\n",
    "a is a parameter that determines the shape of the function.\n",
    "\n",
    "Write a function **sigmoid** that can be used to compute the sigmoid function following the equation above.\n",
    "\n",
    "The argument **x** is an array containing the values at which you want to know the values of **s**.\n",
    "\n",
    "The function should be defined such that **a** *takes the default value of 1*.\n",
    "\n",
    "The function should take input arguments **x** and **a** and return **s** \n",
    "\n",
    "Useful hints: \n",
    "* The exponential function can be called as np.exp().  \n",
    "  "
   ]
  },
  {
   "cell_type": "code",
   "execution_count": 9,
   "metadata": {
    "nbgrader": {
     "grade": false,
     "grade_id": "cell-66d0aa05f9d1903c",
     "locked": false,
     "schema_version": 3,
     "solution": true,
     "task": false
    }
   },
   "outputs": [],
   "source": [
    "### BEGIN SOLUTION\n",
    "def sigmoid(x,a=1):\n",
    "    s = np.exp(a*x)/(1+np.exp(a*x))\n",
    "    return s\n",
    "### END SOLUTION"
   ]
  },
  {
   "cell_type": "code",
   "execution_count": 10,
   "metadata": {
    "nbgrader": {
     "grade": true,
     "grade_id": "cell-7e345d7c79fc0e4b",
     "locked": true,
     "points": 3,
     "schema_version": 3,
     "solution": false,
     "task": false
    }
   },
   "outputs": [],
   "source": [
    "x = np.arange(-10,10.5,0.5)\n",
    "s = sigmoid(x)\n",
    "assert len(s) == len(x)\n",
    "assert s[20] == 0.5\n",
    "assert np.isclose(s[19],0.3775,rtol = 0.005)"
   ]
  },
  {
   "cell_type": "code",
   "execution_count": 11,
   "metadata": {
    "nbgrader": {
     "grade": true,
     "grade_id": "cell-8ee4f4069074d441",
     "locked": true,
     "points": 3,
     "schema_version": 3,
     "solution": false,
     "task": false
    }
   },
   "outputs": [],
   "source": [
    "x = np.arange(-5,5,0.5)\n",
    "a = 0.5\n",
    "s = sigmoid(x,a) \n",
    "assert len(s) == len(x) \n",
    "assert s[10] == 0.5\n",
    "assert np.isclose(s[5],0.223,rtol = 0.005)"
   ]
  },
  {
   "cell_type": "markdown",
   "metadata": {},
   "source": [
    "5. Visualize how the value of **a** changes the shape of the sigmoid. \n",
    "* Make a graph of the values of **s** for three different values of **a** - 0.5, 1.0, 1.5. \n",
    "* Let **x** range from -10 to 10 in steps of 0.5.  \n",
    "* Use different colored lines for the 3 graphs, and make a legend labeling the lines by the value of a.    \n",
    "* You may use your own artistic sensibilities to choose colors and symbols. \n",
    "\n",
    "Colors - \n",
    "* blue - 'b',\n",
    "* green - 'g',\n",
    "* red - 'r',\n",
    "* cyan - 'c',\n",
    "* magenta - 'm',\n",
    "* yellow - 'y',\n",
    "* black - 'k',\n",
    "* white - 'w' \n",
    "\n",
    "Line styles \n",
    "\n",
    "* '-' solid line \n",
    "* '--' dashed line\n",
    "* '-.' dash dot line\n",
    "* ':'  dotted line \n",
    "\n",
    "Marker shapes \n",
    "* '.'- point\n",
    "* 'o' - circle\n",
    "* 'x' - x marker \n",
    "* 'D' = diamond marker\n",
    "* 'H' - hexagon marker \n",
    "* 's' - square marker\n",
    "* '+' plus marker \n",
    "\n",
    "The example shown here contains all the important features of a well made graph.\n",
    "\n",
    "![alt text](sigmoid.png \"Sigmoid plot\")\n"
   ]
  },
  {
   "cell_type": "code",
   "execution_count": 12,
   "metadata": {
    "nbgrader": {
     "grade": true,
     "grade_id": "cell-f97228f75effc113",
     "locked": false,
     "points": 6,
     "schema_version": 3,
     "solution": true,
     "task": false
    }
   },
   "outputs": [
    {
     "data": {
      "image/png": "[encoded data removed]",
      "text/plain": [
       "<Figure size 640x480 with 1 Axes>"
      ]
     },
     "metadata": {},
     "output_type": "display_data"
    }
   ],
   "source": [
    "### BEGIN SOLUTION\n",
    "x = np.arange(-10,10.5,0.5)\n",
    "fig = plt.figure()\n",
    "ax = fig.add_axes([0,0,1,1])\n",
    "s = sigmoid(x,0.5)\n",
    "ax.plot(x,s,'ro-',label = 'a = 0.5')\n",
    "s = sigmoid(x,1)\n",
    "ax.plot(x,s,'bs-',label = 'a = 1.0')\n",
    "s = sigmoid(x,1.5)\n",
    "ax.plot(x,s,'kd-',label = 'a = 1.5')\n",
    "ax.set_xlabel('x')\n",
    "ax.set_ylabel('s')\n",
    "plt.legend()\n",
    "plt.show()\n",
    "### END SOLUTION\n"
   ]
  }
 ],
 "metadata": {
  "kernelspec": {
   "display_name": "Python 3 (ipykernel)",
   "language": "python",
   "name": "python3"
  },
  "language_info": {
   "codemirror_mode": {
    "name": "ipython",
    "version": 3
   },
   "file_extension": ".py",
   "mimetype": "text/x-python",
   "name": "python",
   "nbconvert_exporter": "python",
   "pygments_lexer": "ipython3",
   "version": "3.13.5"
  }
 },
 "nbformat": 4,
 "nbformat_minor": 4
}
