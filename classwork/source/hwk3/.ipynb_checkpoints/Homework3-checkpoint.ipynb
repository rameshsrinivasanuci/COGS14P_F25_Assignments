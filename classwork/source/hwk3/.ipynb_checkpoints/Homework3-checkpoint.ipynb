{
 "cells": [
  {
   "cell_type": "markdown",
   "metadata": {},
   "source": [
    "# Homework 3 \n",
    "\n",
    "* Practice some of the fundamentals of writing and using functions. \n",
    "* Make some basic line and bar plots using `matplotlib` and the `pyplot` submodule\n",
    "\n"
   ]
  },
  {
   "cell_type": "code",
   "execution_count": 1,
   "metadata": {},
   "outputs": [],
   "source": [
    "import numpy as np\n",
    "from matplotlib import pyplot as plt"
   ]
  },
  {
   "cell_type": "markdown",
   "metadata": {},
   "source": [
    "1-2. It is challenging to come up with measures of excellence in individual defense in basketball.  One useful measure of individual defense is to compare the number of steals to fouls. Basketball players are often called for fouls when they try to steal the ball. There are only a handful of NBA players who steal more than they foul.    \n",
    "\n",
    "Jimmy Butler is a remarkable defender by this measure. The following 3 lists have the years, games, steals, and fouls per game for every season of Jimmy Butler's career (not including his rookie year when he didn't play). Run the next code block so you have the variables available to answer problems 1-2. Answer the questions by writing Python code and using numpy functions, not just by figuring it out in your head. "
   ]
  },
  {
   "cell_type": "code",
   "execution_count": 2,
   "metadata": {},
   "outputs": [],
   "source": [
    "years = np.arange(2012,2025)\n",
    "games = [82,67,65,67,75,59,10,55,58,52,57,64,60]\n",
    "steals = [1.0,1.9,1.8,1.6,1.9,2.0,2.4,1.8,1.8,2.1,1.6,1.8,1.3]\n",
    "fouls = [1.2,1.6,1.7,1.9,1.5,1.3,1.8,1.7,1.4,1.4,1.5,1.3,1.1]"
   ]
  },
  {
   "cell_type": "markdown",
   "metadata": {},
   "source": [
    "1. Write a function called **find_max_ratio** which takes two arrays **x** and **y**  as input arguments.  The function divides **x** by **y** and finds the index to the maximum value of the ratio.  It then returns the value of the index, the value of **x** where the ratio is maximum and the value of **y** where the ratio is maximum. In the example we apply this function to identify Jimmy's best year for this metric.  "
   ]
  },
  {
   "cell_type": "code",
   "execution_count": 3,
   "metadata": {
    "nbgrader": {
     "grade": false,
     "grade_id": "cell-aea21f5309471fc7",
     "locked": false,
     "schema_version": 3,
     "solution": true,
     "task": false
    }
   },
   "outputs": [],
   "source": [
    "### BEGIN SOLUTION\n",
    "def find_max_ratio(x,y):\n",
    "    x= np.array(x)\n",
    "    y= np.array(y)\n",
    "    ratio = x/y \n",
    "    maxindex = np.argmax(ratio)\n",
    "    xmax = x[maxindex]\n",
    "    ymax = y[maxindex]\n",
    "    return maxindex, xmax,ymax\n",
    "### END SOLUTION"
   ]
  },
  {
   "cell_type": "code",
   "execution_count": 4,
   "metadata": {
    "nbgrader": {
     "grade": true,
     "grade_id": "cell-7c49960373e0e932",
     "locked": true,
     "points": 6,
     "schema_version": 3,
     "solution": false,
     "task": false
    }
   },
   "outputs": [],
   "source": [
    "index,steals_best_year,fouls_best_year = find_max_ratio(steals,fouls) \n",
    "best_year = years[index]\n",
    "assert index == 5\n",
    "assert steals_best_year == 2.0\n",
    "assert fouls_best_year == 1.3\n",
    "assert best_year == 2017"
   ]
  },
  {
   "cell_type": "markdown",
   "metadata": {},
   "source": [
    "2.  Compute the ratio of **steals** to **fouls** and make a new variable **steals2fouls**.  Make a bar graph of **steals2fouls**, with x axis labeled by **years**. On the bar graph, make a horizontal line to indicate **steals2fouls** = 1. The line should be a different color than the bars and should have a symbol at each year.  (See problem 5 for some documentation on plots)\n",
    "\n",
    "Hint: make a variable with the value of 1 to plot as a line.  \n",
    "\n",
    "* Your graph should look like this \n",
    "\n",
    "![alt text](steals2fouls.png \"Sigmoid plot\")"
   ]
  },
  {
   "cell_type": "code",
   "execution_count": null,
   "metadata": {
    "nbgrader": {
     "grade": true,
     "grade_id": "cell-422a8b01a5bc90f6",
     "locked": false,
     "points": 6,
     "schema_version": 3,
     "solution": true,
     "task": false
    }
   },
   "outputs": [],
   "source": [
    "### BEGIN SOLUTION\n",
    "steals2fouls = np.array(steals)/np.array(fouls)\n",
    "level1 = np.ones(len(years))\n",
    "fig = plt.figure()\n",
    "ax = fig.add_axes([0,0,1,1])\n",
    "ax.bar(years,steals2fouls)\n",
    "ax.plot(years,level1,'ko-')\n",
    "ax.set_xlabel('Year')\n",
    "ax.set_ylabel('Steals to Fouls Ratio') \n",
    "plt.show()\n",
    "### END SOLUTION"
   ]
  },
  {
   "cell_type": "markdown",
   "metadata": {},
   "source": [
    "3. Distance function in arbitrary dimensions.  \n",
    "* In a plane, a point a has location defined by a pair of values $(a_1,a_2)$ which gives its position along the (x,y) axes\n",
    "* The distance between two points in the plane a and b is then \n",
    "    $$ d = \\sqrt{(b_2-a_2)^2 + (b_1-a_1)^2} $$\n",
    "* If the point a is in 3 dimensions 3 coordinates are required, $(a_1,a_2,a_3)$ corresponding to (x,y,z).\n",
    "* In 3 dimensions, the distance formula between two points a and b is \n",
    "    $$ d = \\sqrt{(b_3-a_3)^2 + (b_2-a_2)^2 + (b_1-a_1)^2)} $$\n",
    "In this case each of a,b is an array of size 3.\n",
    "* The notion of \"distance\" can be applied in any number of dimensions.  So, in general distance between 2 points in a an n-dimensional space can be defined as \n",
    "    $$ d = \\sqrt{\\sum_{j=1}^{n}{(b_j-a_j)^2}} $$ \n",
    "* Write a function called **distance** that takes as input arguments the two points **a**,**b** and returns the distance d between the points.  Each point is given as an array or list of size n.\n",
    "* The same function should be able to work for a,b that are array of any size n = 1,2,3,4......  \n",
    "* `np.sum` will sum an array of any size. \n",
    "* `np.sqrt` will take the square root of any number (or array)\n"
   ]
  },
  {
   "cell_type": "code",
   "execution_count": 6,
   "metadata": {
    "nbgrader": {
     "grade": false,
     "grade_id": "cell-4497a6342694c829",
     "locked": false,
     "schema_version": 3,
     "solution": true,
     "task": false
    },
    "tags": []
   },
   "outputs": [],
   "source": [
    "### BEGIN SOLUTION\n",
    "def distance(a,b):\n",
    "    a = np.array(a)\n",
    "    b = np.array(b)\n",
    "    c = a-b\n",
    "    D = np.sqrt(np.sum(c**2))\n",
    "    return D\n",
    "### END SOLUTION"
   ]
  },
  {
   "cell_type": "code",
   "execution_count": 7,
   "metadata": {
    "nbgrader": {
     "grade": true,
     "grade_id": "cell-ecf84493493de182",
     "locked": true,
     "points": 2,
     "schema_version": 3,
     "solution": false,
     "task": false
    },
    "tags": []
   },
   "outputs": [],
   "source": [
    "assert distance(1,2) == 1"
   ]
  },
  {
   "cell_type": "code",
   "execution_count": 8,
   "metadata": {
    "nbgrader": {
     "grade": true,
     "grade_id": "cell-632c73c5bd0d5785",
     "locked": true,
     "points": 2,
     "schema_version": 3,
     "solution": false,
     "task": false
    },
    "tags": []
   },
   "outputs": [],
   "source": [
    "x = [2,3]\n",
    "y = [-1,-1]\n",
    "assert distance(x,y) == 5"
   ]
  },
  {
   "cell_type": "code",
   "execution_count": 9,
   "metadata": {
    "nbgrader": {
     "grade": true,
     "grade_id": "cell-2f97802ace3b0b8a",
     "locked": true,
     "points": 2,
     "schema_version": 3,
     "solution": false,
     "task": false
    },
    "tags": []
   },
   "outputs": [],
   "source": [
    "x = np.ones(9)\n",
    "y = 2*np.ones(9)\n",
    "assert distance(x,y) == 3"
   ]
  },
  {
   "cell_type": "markdown",
   "metadata": {},
   "source": [
    "4. The sigmoid function is invaluable in both psychology and neuroscience research and also in neural networks for machine learning.\n",
    "The equation for a sigmoid function is\n",
    "$$ s(x) = \\frac{e^{ax}}{e^{ax}+1} $$\n",
    "a is a parameter that determines the shape of the function.\n",
    "\n",
    "Write a function **sigmoid** that can be used to compute the sigmoid function following the equation above.\n",
    "\n",
    "The argument **x** is an array containing the values at which you want to know the values of **s**.\n",
    "\n",
    "The function should be defined such that **a** *takes the default value of 1*.\n",
    "\n",
    "The function should take input arguments **x** and **a** and return **s** \n",
    "\n",
    "Useful hints: \n",
    "* The exponential function can be called as np.exp().  \n",
    "  "
   ]
  },
  {
   "cell_type": "code",
   "execution_count": 10,
   "metadata": {
    "nbgrader": {
     "grade": false,
     "grade_id": "cell-66d0aa05f9d1903c",
     "locked": false,
     "schema_version": 3,
     "solution": true,
     "task": false
    }
   },
   "outputs": [],
   "source": [
    "### BEGIN SOLUTION\n",
    "def sigmoid(x,a=1):\n",
    "    s = np.exp(a*x)/(1+np.exp(a*x))\n",
    "    return s\n",
    "### END SOLUTION"
   ]
  },
  {
   "cell_type": "code",
   "execution_count": 11,
   "metadata": {
    "nbgrader": {
     "grade": true,
     "grade_id": "cell-7e345d7c79fc0e4b",
     "locked": true,
     "points": 3,
     "schema_version": 3,
     "solution": false,
     "task": false
    }
   },
   "outputs": [],
   "source": [
    "x = np.arange(-10,10.5,0.5)\n",
    "s = sigmoid(x)\n",
    "assert len(s) == len(x)\n",
    "assert s[20] == 0.5\n",
    "assert np.isclose(s[19],0.3775,rtol = 0.005)"
   ]
  },
  {
   "cell_type": "code",
   "execution_count": 12,
   "metadata": {
    "nbgrader": {
     "grade": true,
     "grade_id": "cell-8ee4f4069074d441",
     "locked": true,
     "points": 3,
     "schema_version": 3,
     "solution": false,
     "task": false
    }
   },
   "outputs": [],
   "source": [
    "x = np.arange(-5,5,0.5)\n",
    "a = 0.5\n",
    "s = sigmoid(x,a) \n",
    "assert len(s) == len(x) \n",
    "assert s[10] == 0.5\n",
    "assert np.isclose(s[5],0.223,rtol = 0.005)"
   ]
  },
  {
   "cell_type": "markdown",
   "metadata": {},
   "source": [
    "5. Visualize how the value of **a** changes the shape of the sigmoid. \n",
    "* Make a graph of the values of **s** for three different values of **a** - 0.5, 1.0, 1.5. \n",
    "* Let **x** range from -10 to 10 in steps of 0.5.  \n",
    "* Use different colored lines for the 3 graphs, and make a legend labeling the lines by the value of a.    \n",
    "* You may use your own artistic sensibilities in choice of colors and symbols. \n",
    "\n",
    "Colors - \n",
    "* blue - 'b',\n",
    "* green - 'g',\n",
    "* red - 'r',\n",
    "* cyan - 'c',\n",
    "* magenta - 'm',\n",
    "* yellow - 'y',\n",
    "* black - 'k',\n",
    "* white - 'w' \n",
    "\n",
    "Line styles \n",
    "\n",
    "* '-' solid line \n",
    "* '--' dashed line\n",
    "* '-.' dash dot line\n",
    "* ':'  dotted line \n",
    "\n",
    "Marker shapes \n",
    "* '.'- point\n",
    "* 'o' - circle\n",
    "* 'x' - x marker \n",
    "* 'D' = diamond marker\n",
    "* 'H' - hexagon marker \n",
    "* 's' - square marker\n",
    "* '+' plus marker \n",
    "\n",
    "The example shown here contains all the important features of a well made graph.\n",
    "\n",
    "![alt text](sigmoid.png \"Sigmoid plot\")\n"
   ]
  },
  {
   "cell_type": "code",
   "execution_count": null,
   "metadata": {
    "nbgrader": {
     "grade": true,
     "grade_id": "cell-f97228f75effc113",
     "locked": false,
     "points": 6,
     "schema_version": 3,
     "solution": true,
     "task": false
    }
   },
   "outputs": [],
   "source": [
    "### BEGIN SOLUTION\n",
    "x = np.arange(-10,10.5,0.5)\n",
    "fig = plt.figure()\n",
    "ax = fig.add_axes([0,0,1,1])\n",
    "s = sigmoid(x,0.5)\n",
    "ax.plot(x,s,'ro-',label = 'a = 0.5')\n",
    "s = sigmoid(x,1)\n",
    "ax.plot(x,s,'bs-',label = 'a = 1.0')\n",
    "s = sigmoid(x,1.5)\n",
    "ax.plot(x,s,'kd-',label = 'a = 1.5')\n",
    "ax.set_xlabel('x')\n",
    "ax.set_ylabel('s')\n",
    "plt.legend()\n",
    "plt.show()\n",
    "### END SOLUTION\n"
   ]
  }
 ],
 "metadata": {
  "interpreter": {
   "hash": "2e657ee31aa0f48c25b92c94dc9b275f8839f1f852f689f557eb12192de20e26"
  },
  "kernelspec": {
   "display_name": "Python 3 (ipykernel)",
   "language": "python",
   "name": "python3"
  },
  "language_info": {
   "codemirror_mode": {
    "name": "ipython",
    "version": 3
   },
   "file_extension": ".py",
   "mimetype": "text/x-python",
   "name": "python",
   "nbconvert_exporter": "python",
   "pygments_lexer": "ipython3",
   "version": "3.12.4"
  }
 },
 "nbformat": 4,
 "nbformat_minor": 4
}
