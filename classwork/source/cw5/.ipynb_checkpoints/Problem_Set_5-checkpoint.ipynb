{
 "cells": [
  {
   "cell_type": "markdown",
   "id": "f560cb29-5c26-472a-bc56-ed82e9cc5f32",
   "metadata": {
    "tags": []
   },
   "source": [
    "## **Problem Set 5** Execution Control 2\n",
    "\n",
    "This is a problem set. You can work on it with the help of your classmates, Google, or ask me any questions you would like.\n",
    "\n",
    "I encourage discussion during these problem sets.  "
   ]
  },
  {
   "cell_type": "code",
   "execution_count": 1,
   "id": "5b487076-710f-4572-a17f-fe9570c93ca4",
   "metadata": {},
   "outputs": [],
   "source": [
    "import numpy as np"
   ]
  },
  {
   "cell_type": "markdown",
   "id": "84770280-7249-43ee-af0d-d97c54e67261",
   "metadata": {
    "tags": []
   },
   "source": [
    "1-2.The factorial of an integer is the product of the all the integers starting from the integer going down to one.  \n",
    "\n",
    "So, for example, in math we usually write \n",
    "\n",
    "$ n!  = n \\times (n-1) \\times (n-2)....2 \\times 1 $\n",
    "\n",
    "For example, 5! = 5 * 4 * 3 * 2 * 1 = 120 \n",
    "Of course in any real program, we would use `np.prod` or `math.factorial` to compute the factorial of an integer n. \n",
    "\n",
    "But, we are here to suffer and learn. So you cannot used any in-built factorial function like `math.factorial`.  You are also not allowed to use `np.prod`\n",
    "\n",
    "You can solve this problem using a `for` loop or using a `while` loop.  In this exercise you will do it both ways.  "
   ]
  },
  {
   "cell_type": "markdown",
   "id": "6647779c",
   "metadata": {},
   "source": [
    "1.  Write a function called **forfact** that take an input argument **n** and returns the factorial of n.  I want you to solve it using a **for** loop. "
   ]
  },
  {
   "cell_type": "code",
   "execution_count": 2,
   "id": "531f10c2",
   "metadata": {
    "nbgrader": {
     "grade": false,
     "grade_id": "cell-7d70435eb3db2a69",
     "locked": false,
     "schema_version": 3,
     "solution": true,
     "task": false
    }
   },
   "outputs": [],
   "source": [
    "### BEGIN SOLUTION\n",
    "def forfact(n):\n",
    "    nfact = 1\n",
    "    for j in range(1,n+1):\n",
    "        nfact = nfact*j\n",
    "    return nfact\n",
    "### END SOLUTION"
   ]
  },
  {
   "cell_type": "code",
   "execution_count": 3,
   "id": "26a8beab",
   "metadata": {
    "nbgrader": {
     "grade": true,
     "grade_id": "cell-21816c4d24477aee",
     "locked": true,
     "points": 4,
     "schema_version": 3,
     "solution": false,
     "task": false
    }
   },
   "outputs": [],
   "source": [
    "n = 9\n",
    "assert forfact(n) == np.prod(np.arange(1,n+1))"
   ]
  },
  {
   "cell_type": "markdown",
   "id": "7becdb0c",
   "metadata": {},
   "source": [
    "2. Write a function called **whilefact** that takes the input argument **n** and returns the factorial of n. I want you to solve it using a **while** loop"
   ]
  },
  {
   "cell_type": "code",
   "execution_count": 4,
   "id": "b8969bde",
   "metadata": {
    "nbgrader": {
     "grade": false,
     "grade_id": "cell-bc4d7b9f01f70741",
     "locked": false,
     "schema_version": 3,
     "solution": true,
     "task": false
    }
   },
   "outputs": [],
   "source": [
    "### BEGIN SOLUTION\n",
    "def whilefact(n):\n",
    "    nfact = n\n",
    "    while n > 1:\n",
    "        n=n-1\n",
    "        nfact = nfact*n\n",
    "    return nfact\n",
    "### END SOLUTION"
   ]
  },
  {
   "cell_type": "code",
   "execution_count": 5,
   "id": "efe40a50",
   "metadata": {
    "nbgrader": {
     "grade": true,
     "grade_id": "cell-7b4760b78688ef23",
     "locked": true,
     "points": 4,
     "schema_version": 3,
     "solution": false,
     "task": false
    }
   },
   "outputs": [],
   "source": [
    "n = 10\n",
    "assert whilefact(n) == np.prod(np.arange(1,n+1))"
   ]
  },
  {
   "cell_type": "markdown",
   "id": "bce1a2c1",
   "metadata": {},
   "source": [
    "3. There are a number of approximations to the number $\\pi$ that have been developed over the years.   \n",
    "Leibniz's formula for approximating $\\pi$ is\n",
    "\n",
    "$$ \\pi = 4 - 4/3 + 4/5 - 4/7 + 4/9 - 4/11 + 4/13 ....   $$\n",
    "\n",
    "$$ \\pi = \\sum_{n=0}^{\\infty}{(-1)^n\\frac{4}{2n+1}} $$\n",
    "\n",
    "Note two things to pay attention to about this sum. \n",
    "* The first term is equivalent to 4/1.  So, we are counting 1,3,5,7,9,11.... for the denominator.  That is where the 2*n+1 comes from \n",
    "* We are alternating between adding and subtracting numbers.  That is where the $(-1)^n$ comes from.    \n",
    "\n",
    "Write a function **leibniz** sums the terms in Leibniz's formula for $\\pi$ until the magnitude of the *change* in the sum is less than a user specified value **tol**. The function should return the approximation to $\\pi$ and the number of terms (in that order)"
   ]
  },
  {
   "cell_type": "code",
   "execution_count": 6,
   "id": "4b7369a2",
   "metadata": {
    "nbgrader": {
     "grade": false,
     "grade_id": "cell-a4c6bcc96def1e0a",
     "locked": false,
     "schema_version": 3,
     "solution": true,
     "task": false
    }
   },
   "outputs": [],
   "source": [
    "### BEGIN SOLUTION\n",
    "def leibniz(tol):\n",
    "    pi = 0\n",
    "    n = 0\n",
    "    term = 4/(2*n+1)\n",
    "    while term > tol:\n",
    "        pi = pi + ((-1)**n)*term \n",
    "        n = n+1\n",
    "        term = 4/(2*n+1) \n",
    "    return pi,n\n",
    "### END SOLUTION"
   ]
  },
  {
   "cell_type": "code",
   "execution_count": 7,
   "id": "632a6828",
   "metadata": {
    "nbgrader": {
     "grade": true,
     "grade_id": "cell-c3e5effce4348037",
     "locked": true,
     "points": 4,
     "schema_version": 3,
     "solution": false,
     "task": false
    }
   },
   "outputs": [],
   "source": [
    "tol = 0.01\n",
    "pi,n = leibniz(tol)\n",
    "assert n == 200 \n",
    "assert np.isclose(pi,np.pi, rtol = 0.005)"
   ]
  },
  {
   "cell_type": "markdown",
   "id": "33bbfce3",
   "metadata": {},
   "source": [
    "4. The `input` function in python allows for keyboard input. \n",
    "\n",
    "For example:\n",
    "         \n",
    "         d = input('test input:')\n",
    "         \n",
    "* will prompt for an input with the text 'test input'\n",
    "* this argument is called the **prompt** and will appear in a box below this cell.\n",
    "* After you type your response (and Enter) the keyboard input in stored in a variable **d** \n",
    "* By default the variable is of type `str`. \n",
    "\n",
    "Write a function **get_response** which takes two input arguments\n",
    "* string **prompt**\n",
    "* list or array **validresponses**\n",
    "\n",
    "The function **get_response** uses the function `input` and prompts the user for a variable **response** \n",
    "with the prompt given by **prompt**\n",
    "\n",
    "If the keyboard input is one of the responses in **validresponses**, the function should print **response** and return the variable **response**  \n",
    "\n",
    "If the keyboard input is not in the list or array **validresponses** the function should print the string, \n",
    "\n",
    "'Invalid Response, Try Again' \n",
    "\n",
    "and then prompt the subject for a response again. \n",
    "\n",
    "The function should keep prompting the user until the user gives a response in the list or array **validresponses**\n",
    "\n",
    "*Hint 1*: First test how input works and examine the variables it stores.  Just type this simple example in the box below and run it:\n",
    "\n",
    "    x = input('How does this look?:')\n",
    "    print(x)\n",
    "\n",
    "The input box appears below the code cell.  Find it, and enter different types of variables there and see that it always returns a string even if you enter a number.  \n",
    "\n",
    "*Hint 2*: You need to keep prompting them until they give you a valid input.  This suggests a `while` statement to me, where you check if their input is valid and only stop asking for a response if they give you a valid input. \n",
    "\n",
    "*Hint 3*: To test if their keyboard input, stored in the variables **response** is one of the values in **validresponses** you can use list or array methods with the following logical statements. \n",
    "\n",
    "array:             \n",
    "* np.any(validresponses == response)\n",
    "\n",
    "list:              \n",
    "* response in validresponses\n"
   ]
  },
  {
   "cell_type": "code",
   "execution_count": 40,
   "id": "3057c33c",
   "metadata": {
    "nbgrader": {
     "grade": true,
     "grade_id": "cell-81bd7770e6c3b142",
     "locked": false,
     "points": 8,
     "schema_version": 3,
     "solution": true,
     "task": false
    }
   },
   "outputs": [],
   "source": [
    "### BEGIN SOLUTION\n",
    "def get_response(prompt,validresponses):\n",
    "#    this converts responses to array, comment if using list method\n",
    "    validresponses = np.array(validresponses)\n",
    "    invalid = True\n",
    "    while invalid:\n",
    "        response = input(prompt)\n",
    "        if np.any(validresponses == response):\n",
    "#        if you choose to leave responses as a list then \n",
    "#        if response in validresponses:\n",
    "            print(response)\n",
    "            invalid = False\n",
    "        else:\n",
    "            print('Invalid Response, Try Again')\n",
    "    return response \n",
    "### END SOLUTION"
   ]
  },
  {
   "cell_type": "code",
   "execution_count": 41,
   "id": "7b1b3758",
   "metadata": {},
   "outputs": [
    {
     "name": "stdin",
     "output_type": "stream",
     "text": [
      "Ready to code an experiment? m\n"
     ]
    },
    {
     "name": "stdout",
     "output_type": "stream",
     "text": [
      "Invalid Response, Try Again\n"
     ]
    },
    {
     "name": "stdin",
     "output_type": "stream",
     "text": [
      "Ready to code an experiment? y\n"
     ]
    },
    {
     "name": "stdout",
     "output_type": "stream",
     "text": [
      "y\n"
     ]
    },
    {
     "name": "stdout",
     "output_type": "stream",
     "text": [
      "yes\n",
      "y\n"
     ]
    }
   ],
   "source": [
    "prompt = \"Ready to code an experiment?\"\n",
    "validresponses = ['y','n']\n",
    "response = get_response(prompt,validresponses)"
   ]
  }
 ],
 "metadata": {
  "kernelspec": {
   "display_name": "Python 3 (ipykernel)",
   "language": "python",
   "name": "python3"
  },
  "language_info": {
   "codemirror_mode": {
    "name": "ipython",
    "version": 3
   },
   "file_extension": ".py",
   "mimetype": "text/x-python",
   "name": "python",
   "nbconvert_exporter": "python",
   "pygments_lexer": "ipython3",
   "version": "3.13.5"
  }
 },
 "nbformat": 4,
 "nbformat_minor": 5
}
