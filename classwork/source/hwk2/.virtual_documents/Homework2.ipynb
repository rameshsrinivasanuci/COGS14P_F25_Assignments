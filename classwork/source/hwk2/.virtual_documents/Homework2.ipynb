





import numpy as np
from numpy import random





rng = random.default_rng(seed = 108)





### BEGIN SOLUTION
v = rng.uniform(0,100,20)
### END SOLUTION


assert v.size == 20
assert v.dtype == 'float64'





### BEGIN SOLUTION
max_v = np.max(v)
index_max_v = np.argmax(v)
### END SOLUTION


assert v[index_max_v] == max_v





### BEGIN SOLUTION
M = rng.integers(-10,11,(5,2))
### END SOLUTION


assert M.shape[0] == 5
assert M.shape[1] == 2





### BEGIN SOLUTION
M_colmin = np.min(M,axis=0)
### END SOLUTION


assert M_colmin.size == 2





### BEGIN SOLUTION
x = rng.integers(100,200,20)
y = rng.integers(200,300,20)
x_sortorder = np.argsort(x)
sorted_x = x[x_sortorder]
sorted_y = y[x_sortorder]
### END SOLUTION


assert np.sum(np.diff(sorted_x)) >= 0


assert sorted_y[-1] == y[np.argmax(x)]








### BEGIN SOLUTION
rng = random.default_rng(seed = 77)
### END SOLUTION


### BEGIN HIDDEN TESTS
x = 0
assert x == 0
### END HIDDEN TESTS





### BEGIN SOLUTION
u = rng.uniform(0,100,50)
mean_u = np.mean(u)
median_u = np.median(u) 
### END SOLUTION


assert np.size(u) == 50
### BEGIN HIDDEN TESTS
assert mean_u == np.mean(u)
assert median_u == np.median(u) 
### END HIDDEN TESTS





### BEGIN SOLUTION
v = rng.uniform(0,100,1000)
prct = np.array([10,25,50,75,90])
v_percentiles = np.percentile(v,prct)
#Alternate Solution 
#v_percentiles = list() 
#v_percentiles.append(np.percentile(v,10))
#v_percentiles.append(np.percentile(v,25))
#v_percentiles.append(np.percentile(v,50))
#v_percentiles.append(np.percentile(v,75))
#v_percentiles.append(np.percentile(v,90))
### END SOLUTION


assert np.size(v) == 1000
### BEGIN HIDDEN TESTS
assert np.size(v_percentiles) == 5
### END HIDDEN TESTS





### BEGIN SOLUTION
dice = rng.integers(1,7,(100,9))
dice_mean = np.mean(dice,axis =0)
dice_median = np.median(dice,axis =0)
dice_std = np.std(dice,axis =0)
### END SOLUTION


assert np.size(dice_mean) == 9 
### BEGIN HIDDEN TESTS
assert np.all(dice_mean == np.mean(dice,axis =0))
assert np.all(dice_median == np.median(dice,axis =0))
assert np.all(dice_std == np.std(dice,axis =0))
### END HIDDEN TESTS





### BEGIN SOLUTION
roll_mean = np.mean(dice, axis = 1)
### END SOLUTION


assert np.size(roll_mean) == 100 
### BEGIN HIDDEN TESTS
assert np.all(roll_mean == np.mean(dice,axis =1))
### END HIDDEN TESTS





### BEGIN SOLUTION
v = rng.integers(10,100,20)
imax = np.argmax(v)
v[imax] = -1000
### END SOLUTION


assert imax >= 0
### BEGIN HIDDEN TESTS
assert np.min(v) == -1000
assert np.argmin(v) == imax
### END HIDDEN TESTS






### BEGIN SOLUTION
x = [6,-5,-3.5,10,21]
x = np.array(x)
x = np.sort(x)
### END SOLUTION


assert x.size == 5
### BEGIN HIDDEN TESTS
x[-1] = 21
x[0] = -5
### END HIDDEN TESTS





height = np.array([70,60,66,77,65])
weight = np.array([160,120,150,190,165])
### BEGIN SOLUTION 
horder = np.argsort(height)
height = np.sort(height)
weight = weight[horder]
### END SOLUTION


assert height[0] < height[-1]
### BEGIN HIDDEN TEST 
assert weight[1] == 165
### END HIDDEN TESTS





### BEGIN SOLUTION
def circle_area(r=1):
    A = np.pi*r**2
    return A
### END SOLUTION


r = 2
Area  = circle_area(r) 
assert Area == np.pi*r**2


Area = circle_area()
assert Area == np.pi*1**2 


Area = circle_area(r=3)
assert Area == np.pi*3**2





### BEGIN SOLUTION
def cylinder_area(r,h):
    A = 2*circle_area(r)+2*np.pi*r*h
    return A
### END SOLUTION


assert cylinder_area(r=2,h=1) == 12*np.pi





### BEGIN SOLUTION
def distance(a,b):
    a = np.array(a)
    b = np.array(b)
    c = a-b
    D = np.sqrt(np.sum(c**2))
    return D
### END SOLUTION


assert distance(1,2) == 1


point1 = [2,3]
point2 = [-1,-1]
assert distance(point1,point2) == 5


point1 = np.ones(9)
point2 = 2*np.ones(9)
assert distance(np.ones(4), np.zeros(4)) == 2
