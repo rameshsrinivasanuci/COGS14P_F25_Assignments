{
 "cells": [
  {
   "cell_type": "markdown",
   "id": "e0c49111-66a5-43b8-9e9f-7feec82fe000",
   "metadata": {
    "tags": []
   },
   "source": [
    "# Homework 1  (15 pts)\n",
    "### Objectives\n",
    "1. This homework makes use of python variables, expression, lists and numpy arrays.  \n",
    "1. Indexing into arrays is an important skill to acquire by the end of the homework.  \n",
    "### In order for automatic grading and validation to work, it is very important that you make use of the **exact variable names** specified in the problem statement.  \n",
    "### I will always place these **variable** names that must be used for automatic grading in **bold** \n",
    "### Let's get started! First thing to do is always import the modules you need. So run the next line of code. "
   ]
  },
  {
   "cell_type": "code",
   "execution_count": 1,
   "id": "aa5db3e3",
   "metadata": {},
   "outputs": [],
   "source": [
    "import numpy as np "
   ]
  },
  {
   "cell_type": "markdown",
   "id": "78ec96df-d9a0-4a26-a54e-2241227a087e",
   "metadata": {
    "tags": []
   },
   "source": [
    "1. Create a variable named **My_First_Variable** and set its value to 2.  (1 pt)"
   ]
  },
  {
   "cell_type": "code",
   "execution_count": 2,
   "id": "e02d67a2-e225-47a3-93ab-910ea90153d4",
   "metadata": {
    "nbgrader": {
     "grade": false,
     "grade_id": "cell-2745506731a213ef",
     "locked": false,
     "schema_version": 3,
     "solution": true,
     "task": false
    },
    "tags": []
   },
   "outputs": [],
   "source": [
    "### BEGIN SOLUTION\n",
    "My_First_Variable = 2\n",
    "### END SOLUTION"
   ]
  },
  {
   "cell_type": "markdown",
   "id": "0554c74f-dbe3-4ab8-a544-64ef00b81f78",
   "metadata": {
    "tags": []
   },
   "source": [
    "### We test solutions using assert statements.  For fun, try to do this problem correctly and incorrectly and see what it does when you run the code block below, containing an `assert` statement.  "
   ]
  },
  {
   "cell_type": "code",
   "execution_count": 3,
   "id": "457a9470-8d37-46b5-a15f-9435ef96bd65",
   "metadata": {
    "nbgrader": {
     "grade": true,
     "grade_id": "cell-a1e9fdf4667bd8d6",
     "locked": true,
     "points": 1,
     "schema_version": 3,
     "solution": false,
     "task": false
    },
    "tags": []
   },
   "outputs": [],
   "source": [
    "assert My_First_Variable == 2"
   ]
  },
  {
   "cell_type": "markdown",
   "id": "62190856-30e3-4416-ba1c-d656b50152f1",
   "metadata": {},
   "source": [
    "2. Create a variable **v** and set its value equal to 0.5. Compute the variable **w** using the following equation $\\textbf{w} = 2\\frac{1-\\textbf{v}}{1+\\textbf{v}}$ \n",
    "* A useful technique here is to make use of parenthesis to control the order of operations. If you place (1-v) and and (1+v) inside parenthesis, they will be operated on first, before dividing.  \n",
    "* You can also feel free to make intermediate variables e.g., x = 1-v and y = 1+v if that helps you organize the solution.  There is no perfect version of the code.  "
   ]
  },
  {
   "cell_type": "code",
   "execution_count": 4,
   "id": "0f2ecbbe-48bb-48d2-8929-99d0f3e157c1",
   "metadata": {
    "nbgrader": {
     "grade": false,
     "grade_id": "cell-989cfd2c6b242c38",
     "locked": false,
     "schema_version": 3,
     "solution": true,
     "task": false
    },
    "tags": []
   },
   "outputs": [],
   "source": [
    "### BEGIN SOLUTION\n",
    "v = 0.5\n",
    "w = 2*(1-v)/(1+v)\n",
    "### END SOLUTION"
   ]
  },
  {
   "cell_type": "code",
   "execution_count": 5,
   "id": "781ed4c1-5122-4a57-821f-1e7929368c0a",
   "metadata": {
    "nbgrader": {
     "grade": true,
     "grade_id": "cell-2d6405744fe5ae36",
     "locked": true,
     "points": 1,
     "schema_version": 3,
     "solution": false,
     "task": false
    },
    "tags": []
   },
   "outputs": [],
   "source": [
    "assert v == 0.5\n",
    "assert w == 2/3"
   ]
  },
  {
   "cell_type": "markdown",
   "id": "3a45a41c-6a27-453f-8d26-769a8b62b878",
   "metadata": {
    "tags": []
   },
   "source": [
    "3. Create a list named **days** containing the days of the week, starting on 'Monday' and ending on 'Sunday' "
   ]
  },
  {
   "cell_type": "code",
   "execution_count": 6,
   "id": "282f930a-47a5-43ff-ba0e-c40d4a986bd4",
   "metadata": {
    "nbgrader": {
     "grade": false,
     "grade_id": "cell-f5f3ef2fa3517087",
     "locked": false,
     "schema_version": 3,
     "solution": true,
     "task": false
    },
    "tags": []
   },
   "outputs": [],
   "source": [
    "### BEGIN SOLUTION\n",
    "days = ['Monday','Tuesday','Wednesday','Thursday','Friday','Saturday', 'Sunday']\n",
    "### END SOLUTION"
   ]
  },
  {
   "cell_type": "code",
   "execution_count": 7,
   "id": "6805038b-6c3b-45e8-841a-187b6dc1d37b",
   "metadata": {
    "nbgrader": {
     "grade": true,
     "grade_id": "cell-e97c023c69ed93a6",
     "locked": true,
     "points": 1,
     "schema_version": 3,
     "solution": false,
     "task": false
    },
    "tags": []
   },
   "outputs": [],
   "source": [
    "assert len(days) == 7\n",
    "assert days[0] == 'Monday'\n",
    "assert days[6] == 'Sunday'\n",
    "### BEGIN HIDDEN TESTS\n",
    "assert days[1] == 'Tuesday'\n",
    "assert days[2] == 'Wednesday'\n",
    "assert days[3] == 'Thursday'\n",
    "assert days[4] == 'Friday'\n",
    "assert days[5] == 'Saturday'\n",
    "### END HIDDEN TESTS"
   ]
  },
  {
   "cell_type": "markdown",
   "id": "3a11e3d6-74c9-4909-87c3-4b8ad8cb0ec2",
   "metadata": {
    "tags": []
   },
   "source": [
    "4. Use indexing to create two new lists, **Weekend** which contain 'Saturday' and 'Sunday', and **Weekdays** which contain the other 5 working days of the week. Do not solve this problem by manually making another list.  The goal here is to think about indexing. "
   ]
  },
  {
   "cell_type": "code",
   "execution_count": 8,
   "id": "159abcc6-13e2-481a-b8cd-f41396558fd8",
   "metadata": {
    "nbgrader": {
     "grade": false,
     "grade_id": "cell-cd3015af9040c09b",
     "locked": false,
     "schema_version": 3,
     "solution": true,
     "task": false
    },
    "tags": []
   },
   "outputs": [],
   "source": [
    "### BEGIN SOLUTION\n",
    "Weekend = days[5:7]\n",
    "Weekdays = days[0:5]\n",
    "### END SOLUTION"
   ]
  },
  {
   "cell_type": "code",
   "execution_count": 9,
   "id": "a57e3c7a-4ed5-4dd0-b67c-2e8b766784f7",
   "metadata": {
    "nbgrader": {
     "grade": true,
     "grade_id": "cell-1794b59379065020",
     "locked": true,
     "points": 1,
     "schema_version": 3,
     "solution": false,
     "task": false
    },
    "tags": []
   },
   "outputs": [],
   "source": [
    "assert len(Weekend) == 2"
   ]
  },
  {
   "cell_type": "code",
   "execution_count": 10,
   "id": "cffdbfa1-4494-4a26-bfa8-e0596a38cb2f",
   "metadata": {
    "nbgrader": {
     "grade": true,
     "grade_id": "cell-507689ec563fd49b",
     "locked": true,
     "points": 1,
     "schema_version": 3,
     "solution": false,
     "task": false
    },
    "tags": []
   },
   "outputs": [],
   "source": [
    "assert len(Weekdays) == 5"
   ]
  },
  {
   "cell_type": "markdown",
   "id": "114e0053",
   "metadata": {},
   "source": [
    "5. Given the list **words** below, use indexing, string concatentation, to fill the list **greeting** by appending the phrases, [\"Hello Sir\", \"Dear Friend\", \"Friend Price\"].  Pay attention to the spaces in the phrases - a space is a string with a space inside it, ' '.   "
   ]
  },
  {
   "cell_type": "code",
   "execution_count": 11,
   "id": "a2fec717",
   "metadata": {
    "nbgrader": {
     "grade": false,
     "grade_id": "cell-aa293f5d1282fa6b",
     "locked": false,
     "schema_version": 3,
     "solution": true,
     "task": false
    }
   },
   "outputs": [],
   "source": [
    "words = ['Hello', 'Friend', 'Sir', 'Dear','Price']\n",
    "greeting = list()\n",
    "### BEGIN SOLUTION \n",
    "space = ' '\n",
    "greeting.append(words[0]+space+words[2])\n",
    "greeting.append(words[3]+space+words[1])\n",
    "greeting.append(words[1]+space+words[4])\n",
    "### END SOLUTION"
   ]
  },
  {
   "cell_type": "code",
   "execution_count": 31,
   "id": "a56432f1",
   "metadata": {
    "nbgrader": {
     "grade": true,
     "grade_id": "cell-b1c2c2249824c112",
     "locked": true,
     "points": 2,
     "schema_version": 3,
     "solution": false,
     "task": false
    }
   },
   "outputs": [],
   "source": [
    "assert len(greeting) == 3"
   ]
  },
  {
   "cell_type": "markdown",
   "id": "1ba51743",
   "metadata": {},
   "source": [
    "6. Create a variable **v** which is a list that contains the values 7, 16, 15, 14, 22.  Create a variable **w** which is a list that contains the values -1,-0.5,0,0.5,1 "
   ]
  },
  {
   "cell_type": "code",
   "execution_count": 13,
   "id": "d2a5928e",
   "metadata": {
    "nbgrader": {
     "grade": false,
     "grade_id": "cell-612596199a906073",
     "locked": false,
     "schema_version": 3,
     "solution": true,
     "task": false
    }
   },
   "outputs": [],
   "source": [
    "### BEGIN SOLUTION\n",
    "v = [7,16,15,14,22]\n",
    "w = [-1,-0.5,0,0.5,1]\n",
    "### END SOLUTION"
   ]
  },
  {
   "cell_type": "code",
   "execution_count": 14,
   "id": "a61a9bf9",
   "metadata": {
    "nbgrader": {
     "grade": true,
     "grade_id": "cell-2161a504819ff4c6",
     "locked": true,
     "points": 1,
     "schema_version": 3,
     "solution": false,
     "task": false
    }
   },
   "outputs": [],
   "source": [
    "assert len(v) == 5\n",
    "assert len(w) == 5\n",
    "assert v[2] == 15\n",
    "assert w[2] == 0 "
   ]
  },
  {
   "cell_type": "markdown",
   "id": "d4b0f35d",
   "metadata": {},
   "source": [
    "7. Create a variable z calculated by multiplying the 4th element of **v** with the 2nd element of **w**.  Use indexing into the arrays **v** and **w** to solve the problem.     "
   ]
  },
  {
   "cell_type": "code",
   "execution_count": 15,
   "id": "c48628bb",
   "metadata": {
    "nbgrader": {
     "grade": false,
     "grade_id": "cell-cc9a25d65da6209b",
     "locked": false,
     "schema_version": 3,
     "solution": true,
     "task": false
    }
   },
   "outputs": [],
   "source": [
    "### BEGIN SOLUTION\n",
    "z = v[3]*w[1]\n",
    "### END SOLUTION"
   ]
  },
  {
   "cell_type": "code",
   "execution_count": 16,
   "id": "28f6e527",
   "metadata": {
    "nbgrader": {
     "grade": true,
     "grade_id": "cell-9a81ae0f43d19e8a",
     "locked": true,
     "points": 1,
     "schema_version": 3,
     "solution": false,
     "task": false
    }
   },
   "outputs": [],
   "source": [
    "assert z == -7"
   ]
  },
  {
   "cell_type": "markdown",
   "id": "3d45d03e",
   "metadata": {},
   "source": [
    "8. Create a new list **y** which contains the first 3 elements of **v** and a new list **z** which containes the middle 3 entries (2nd to 4th) of **w**.  Do not just simply \"figure it out in your head\" and write out a new list definition.  Use indexing to copy the correct elements of **v** into **y** and **w** into **z**. \n"
   ]
  },
  {
   "cell_type": "code",
   "execution_count": 17,
   "id": "53a51a3f",
   "metadata": {
    "nbgrader": {
     "grade": false,
     "grade_id": "cell-2754de3f28bea4ab",
     "locked": false,
     "schema_version": 3,
     "solution": true,
     "task": false
    }
   },
   "outputs": [],
   "source": [
    "### BEGIN SOLUTION\n",
    "y = v[0:3]\n",
    "z = w[1:4]\n",
    "### END SOLUTION"
   ]
  },
  {
   "cell_type": "code",
   "execution_count": 18,
   "id": "443dda57",
   "metadata": {
    "nbgrader": {
     "grade": true,
     "grade_id": "cell-6d2a8307c4674c13",
     "locked": true,
     "points": 1,
     "schema_version": 3,
     "solution": false,
     "task": false
    }
   },
   "outputs": [],
   "source": [
    "assert len(y) == 3\n",
    "assert len(z) == 3"
   ]
  },
  {
   "cell_type": "markdown",
   "id": "b89cae17",
   "metadata": {},
   "source": [
    "9. Merge **y** and **z** to make a new list **yz** which contains the entries of **y** followed by the entries of **z**\n"
   ]
  },
  {
   "cell_type": "code",
   "execution_count": 19,
   "id": "04587505",
   "metadata": {
    "nbgrader": {
     "grade": false,
     "grade_id": "cell-18de3a19fd8b0db6",
     "locked": false,
     "schema_version": 3,
     "solution": true,
     "task": false
    }
   },
   "outputs": [],
   "source": [
    "### BEGIN SOLUTION\n",
    "yz = y+z\n",
    "### END SOLUTION"
   ]
  },
  {
   "cell_type": "code",
   "execution_count": 20,
   "id": "10eab260",
   "metadata": {},
   "outputs": [],
   "source": [
    "assert yz[3] == w[1]"
   ]
  },
  {
   "cell_type": "markdown",
   "id": "56d5bc69",
   "metadata": {},
   "source": [
    "10. Using negative indexing, make a new variable **last_vw** which is a new list constructed by merging the last *2* elements of **v** followed by the last *4* elements of **w**"
   ]
  },
  {
   "cell_type": "code",
   "execution_count": 21,
   "id": "ee184f5e",
   "metadata": {
    "nbgrader": {
     "grade": false,
     "grade_id": "cell-e677d07d4021a5c4",
     "locked": false,
     "schema_version": 3,
     "solution": true,
     "task": false
    }
   },
   "outputs": [
    {
     "name": "stdout",
     "output_type": "stream",
     "text": [
      "[14, 22, -0.5, 0, 0.5, 1]\n"
     ]
    }
   ],
   "source": [
    "### BEGIN SOLUTION\n",
    "last2_v = v[-2:]\n",
    "last4_w = w[-4:]\n",
    "last_vw = last2_v+last4_w\n",
    "### END SOLUTION\n",
    "print(last_vw)"
   ]
  },
  {
   "cell_type": "code",
   "execution_count": 22,
   "id": "9abc2a76",
   "metadata": {
    "nbgrader": {
     "grade": true,
     "grade_id": "cell-bdf650196df2ebf6",
     "locked": true,
     "points": 1,
     "schema_version": 3,
     "solution": false,
     "task": false
    }
   },
   "outputs": [],
   "source": [
    "assert last_vw[0] == 14\n",
    "assert last_vw[-1] == 1\n",
    "### BEGIN HIDDEN TESTS\n",
    "assert last_vw[3] == 0\n",
    "### END HIDDEN TESTS"
   ]
  },
  {
   "cell_type": "markdown",
   "id": "2dddacc0",
   "metadata": {},
   "source": [
    "11. Convert the lists **v** and **w** into a numpy array *with the same variable name* using the `array` function.  Compute a new array **vxw** by multiplying **v** and **w**.  "
   ]
  },
  {
   "cell_type": "code",
   "execution_count": 23,
   "id": "f18a2983",
   "metadata": {
    "nbgrader": {
     "grade": false,
     "grade_id": "cell-d20078385bad627e",
     "locked": false,
     "schema_version": 3,
     "solution": true,
     "task": false
    }
   },
   "outputs": [],
   "source": [
    "### BEGIN SOLUTION\n",
    "v = np.array(v)\n",
    "w = np.array(w)\n",
    "vxw = v*w\n",
    "### END SOLUTION"
   ]
  },
  {
   "cell_type": "code",
   "execution_count": 24,
   "id": "ddb80ce6",
   "metadata": {
    "nbgrader": {
     "grade": true,
     "grade_id": "cell-84861554104a9652",
     "locked": true,
     "points": 1,
     "schema_version": 3,
     "solution": false,
     "task": false
    }
   },
   "outputs": [],
   "source": [
    "assert vxw[0] == -7\n",
    "assert vxw[-1] == 22 "
   ]
  },
  {
   "cell_type": "markdown",
   "id": "e6112302",
   "metadata": {},
   "source": [
    "12. Create a numpy array named **z** with 10 integers, all with value -100 "
   ]
  },
  {
   "cell_type": "code",
   "execution_count": 25,
   "id": "58f05917",
   "metadata": {
    "nbgrader": {
     "grade": false,
     "grade_id": "cell-97c7f75e071d15d6",
     "locked": false,
     "schema_version": 3,
     "solution": true,
     "task": false
    }
   },
   "outputs": [],
   "source": [
    "### BEGIN SOLUTION\n",
    "z = -100*np.ones(10)\n",
    "### END SOLUTION"
   ]
  },
  {
   "cell_type": "code",
   "execution_count": 26,
   "id": "487346a7",
   "metadata": {
    "nbgrader": {
     "grade": true,
     "grade_id": "cell-17dffd810b651887",
     "locked": true,
     "points": 1,
     "schema_version": 3,
     "solution": false,
     "task": false
    }
   },
   "outputs": [],
   "source": [
    "assert z.size == 10\n",
    "assert z[0] == -100"
   ]
  },
  {
   "cell_type": "markdown",
   "id": "3824accb",
   "metadata": {},
   "source": [
    "13. Make an array named **B** containing elements in the list [5,7,9,12,13,15,17,19]. Change the value of the 3rd to 5th element to -100. You should be able to do this in a single line of code by index slicing.    "
   ]
  },
  {
   "cell_type": "code",
   "execution_count": 27,
   "id": "a53e8e2c",
   "metadata": {
    "nbgrader": {
     "grade": false,
     "grade_id": "cell-53428fb44cc641d5",
     "locked": false,
     "schema_version": 3,
     "solution": true,
     "task": false
    }
   },
   "outputs": [],
   "source": [
    "### BEGIN SOLUTION\n",
    "B = np.array([5,7,9,12,13,15,17,19])\n",
    "B[2:5] = -100\n",
    "### END SOLUTION"
   ]
  },
  {
   "cell_type": "code",
   "execution_count": 28,
   "id": "ea3f9d11",
   "metadata": {
    "nbgrader": {
     "grade": true,
     "grade_id": "cell-6c2c0206f55515c0",
     "locked": true,
     "points": 1,
     "schema_version": 3,
     "solution": false,
     "task": false
    }
   },
   "outputs": [],
   "source": [
    "assert B[2] == -100\n",
    "assert B[4] == -100"
   ]
  },
  {
   "cell_type": "markdown",
   "id": "569ec2f0",
   "metadata": {},
   "source": [
    "14.  Create an array named **digit_2** containing the whole numbers from 10 to 99, including 99"
   ]
  },
  {
   "cell_type": "code",
   "execution_count": 29,
   "id": "6bea54b6",
   "metadata": {
    "nbgrader": {
     "grade": false,
     "grade_id": "cell-61f67ad6eae1b1dd",
     "locked": false,
     "schema_version": 3,
     "solution": true,
     "task": false
    }
   },
   "outputs": [],
   "source": [
    "### BEGIN SOLUTION\n",
    "digit_2 = np.arange(10,100,1)\n",
    "### END SOLUTION"
   ]
  },
  {
   "cell_type": "code",
   "execution_count": 30,
   "id": "d1eacf59",
   "metadata": {
    "nbgrader": {
     "grade": true,
     "grade_id": "cell-fb5af02e1e74dfdc",
     "locked": true,
     "points": 1,
     "schema_version": 3,
     "solution": false,
     "task": false
    }
   },
   "outputs": [],
   "source": [
    "assert digit_2[0] == 10\n",
    "assert digit_2[-1] == 99"
   ]
  }
 ],
 "metadata": {
  "kernelspec": {
   "display_name": "Python 3 (ipykernel)",
   "language": "python",
   "name": "python3"
  },
  "language_info": {
   "codemirror_mode": {
    "name": "ipython",
    "version": 3
   },
   "file_extension": ".py",
   "mimetype": "text/x-python",
   "name": "python",
   "nbconvert_exporter": "python",
   "pygments_lexer": "ipython3",
   "version": "3.13.5"
  }
 },
 "nbformat": 4,
 "nbformat_minor": 5
}
