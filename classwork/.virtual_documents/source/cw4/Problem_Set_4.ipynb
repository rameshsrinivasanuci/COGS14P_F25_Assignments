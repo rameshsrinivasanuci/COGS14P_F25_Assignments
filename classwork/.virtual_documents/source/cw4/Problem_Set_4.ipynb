


import numpy as np
from matplotlib import pyplot as plt





n = 10
### BEGIN SOLUTION
for j in range(n,0,-1):
    print(j)
# alternatively 
#for j in range(n):
#    k = n-j 
#    print(k)
### END SOLUTION


#this question is manually graded 
assert 1 == 1





### BEGIN SOLUTION
color_list = ['yellow','green']
fruit_list = ['banana', 'orange', 'mango', 'lemon']
color_fruit = list()
#for j in range(2):
#    for k in range(4):
#        color_fruit.append(color_list[j]+' '+fruit_list[k])
#ALTERNATE SOLUTION
for color in color_list:
    for fruit in fruit_list:
        color_fruit.append(color+' '+fruit)
### END SOLUTION


assert len(color_fruit) == 8
assert color_fruit[0] == 'yellow banana'
assert color_fruit[6] == 'green mango'





N = 20
### BEGIN SOLUTION 
pi = 0
error = list()
for j in range(N):
    term = 4/(2*j+1) 
    pi = pi+((-1)**j)*term
    error.append(np.pi - pi)
### END SOLUTION


assert np.abs(error[0]) == 4-np.pi
assert np.abs(error[4]) < 0.2
assert np.abs(error[-1]) < 0.05
assert len(error) == 20  





### BEGIN SOLUTION
plt.figure(figsize = (6,4))
N = np.arange(1,21)
plt.bar(N,error)
plt.xticks(N)
plt.xlabel('N')
plt.ylabel('error')
plt.grid(axis = 'y')
### END SOLUTION






### BEGIN SOLUTION
def f(x,s):
    f = np.exp(-x**2/s**2)
    return f
x = np.arange(-3,3.1,0.1)
f1 = f(x,1)
f2 = f(x,0.5)
plt.figure(figsize = (6,4))
plt.plot(x,f1,'r-',label = 's = 1')
plt.plot(x,f2,'b-',label = 's = 0.5')
plt.legend()
plt.xlabel('x')
plt.ylabel('f')
plt.grid()
plt.show()
### END SOLUTION




