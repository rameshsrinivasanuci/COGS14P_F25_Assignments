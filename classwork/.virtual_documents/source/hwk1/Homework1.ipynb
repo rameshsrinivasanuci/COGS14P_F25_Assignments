


import numpy as np 





### BEGIN SOLUTION
My_First_Variable = 2
### END SOLUTION





assert My_First_Variable == 2





### BEGIN SOLUTION
v = 0.5
w = 2*(1-v)/(1+v)
### END SOLUTION


assert v == 0.5
assert w == 2/3





### BEGIN SOLUTION
days = ['Monday','Tuesday','Wednesday','Thursday','Friday','Saturday', 'Sunday']
### END SOLUTION


assert len(days) == 7
assert days[0] == 'Monday'
assert days[6] == 'Sunday'
### BEGIN HIDDEN TESTS
assert days[1] == 'Tuesday'
assert days[2] == 'Wednesday'
assert days[3] == 'Thursday'
assert days[4] == 'Friday'
assert days[5] == 'Saturday'
### END HIDDEN TESTS





### BEGIN SOLUTION
Weekend = days[5:7]
Weekdays = days[0:5]
### END SOLUTION


assert len(Weekend) == 2


assert len(Weekdays) == 5





words = ['Hello', 'Friend', 'Sir', 'Dear','Price']
greeting = list()
### BEGIN SOLUTION 
space = ' '
greeting.append(words[0]+space+words[2])
greeting.append(words[3]+space+words[1])
greeting.append(words[1]+space+words[4])
### END SOLUTION


assert len(greeting) == 3





### BEGIN SOLUTION
v = [7,16,15,14,22]
w = [-1,-0.5,0,0.5,1]
### END SOLUTION


assert len(v) == 5
assert len(w) == 5
assert v[2] == 15
assert w[2] == 0 





### BEGIN SOLUTION
z = v[3]*w[1]
### END SOLUTION


assert z == -7





### BEGIN SOLUTION
y = v[0:3]
z = w[1:4]
### END SOLUTION


assert len(y) == 3
assert len(z) == 3





### BEGIN SOLUTION
yz = y+z
### END SOLUTION


assert yz[3] == w[1]





### BEGIN SOLUTION
last2_v = v[-2:]
last4_w = w[-4:]
last_vw = last2_v+last4_w
### END SOLUTION
print(last_vw)


assert last_vw[0] == 14
assert last_vw[-1] == 1
### BEGIN HIDDEN TESTS
assert last_vw[3] == 0
### END HIDDEN TESTS





### BEGIN SOLUTION
v = np.array(v)
w = np.array(w)
vxw = v*w
### END SOLUTION


assert vxw[0] == -7
assert vxw[-1] == 22 





### BEGIN SOLUTION
z = -100*np.ones(10)
### END SOLUTION


assert z.size == 10
assert z[0] == -100





### BEGIN SOLUTION
B = np.array([5,7,9,12,13,15,17,19])
B[2:5] = -100
### END SOLUTION


assert B[2] == -100
assert B[4] == -100





### BEGIN SOLUTION
digit_2 = np.arange(10,100,1)
### END SOLUTION


assert digit_2[0] == 10
assert digit_2[-1] == 99
