


NAME = ""
COLLABORATORS = ""








# your going to need numpy to do this assignment 
import numpy as np 
#frankly, in this class, you will always need numpy.  





# YOUR CODE HERE


assert len(food)== 6





# YOUR CODE HERE


assert meat[0] == 'bacon'
assert len(meat) == 2


assert veggie[0] == 'tomato'
assert len(veggie) == 2





# YOUR CODE HERE


assert len(numbers) == 7


assert len(skip1) == 4
assert skip1[-1] == 21
assert skip1[1] == 13





# YOUR CODE HERE


assert np.all(np.diff(z) == 10)





# YOUR CODE HERE


assert ~np.any(x%2 == 0)





# YOUR CODE HERE


assert len(power) == 8
assert np,max(power) == 2**8
assert np.min(power) == 2
