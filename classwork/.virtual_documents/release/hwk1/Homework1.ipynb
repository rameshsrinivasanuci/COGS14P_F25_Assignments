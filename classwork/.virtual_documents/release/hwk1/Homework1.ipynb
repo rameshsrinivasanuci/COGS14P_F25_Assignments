


NAME = ""
COLLABORATORS = ""








import numpy as np 





# YOUR CODE HERE





assert My_First_Variable == 2





# YOUR CODE HERE


assert v == 0.5
assert w == 2/3





# YOUR CODE HERE


assert len(days) == 7
assert days[0] == 'Monday'
assert days[6] == 'Sunday'





# YOUR CODE HERE


assert len(Weekend) == 2


assert len(Weekdays) == 5





words = ['Hello', 'Friend', 'Sir', 'Dear','Price']
greeting = list()
# YOUR CODE HERE


assert len(greeting) == 3





# YOUR CODE HERE


assert len(v) == 5
assert len(w) == 5
assert v[2] == 15
assert w[2] == 0 





# YOUR CODE HERE


assert z == -7





# YOUR CODE HERE


assert len(y) == 3
assert len(z) == 3





# YOUR CODE HERE


assert yz[3] == w[1]





# YOUR CODE HERE
print(last_vw)


assert last_vw[0] == 14
assert last_vw[-1] == 1





# YOUR CODE HERE


assert vxw[0] == -7
assert vxw[-1] == 22 





# YOUR CODE HERE


assert z.size == 10
assert z[0] == -100





# YOUR CODE HERE


assert B[2] == -100
assert B[4] == -100





# YOUR CODE HERE


assert digit_2[0] == 10
assert digit_2[-1] == 99
