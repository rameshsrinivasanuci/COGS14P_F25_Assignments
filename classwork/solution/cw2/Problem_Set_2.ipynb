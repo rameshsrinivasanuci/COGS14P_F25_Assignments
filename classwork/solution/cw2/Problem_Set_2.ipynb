{
 "cells": [
  {
   "cell_type": "markdown",
   "id": "15f1a14e",
   "metadata": {},
   "source": [
    "Before you turn this problem in, make sure everything runs as expected. First, **restart the kernel** (in the menubar, select  **Restart** and **Clear All Outputs**, then select **Run All**).\n",
    "\n",
    "Make sure you fill in any place that says `YOUR CODE HERE` or \"YOUR ANSWER HERE\", as well as your name and collaborators below:"
   ]
  },
  {
   "cell_type": "code",
   "execution_count": 1,
   "id": "bc74e8f2",
   "metadata": {
    "execution": {
     "iopub.execute_input": "2025-10-17T19:16:00.975377Z",
     "iopub.status.busy": "2025-10-17T19:16:00.974822Z",
     "iopub.status.idle": "2025-10-17T19:16:00.979067Z",
     "shell.execute_reply": "2025-10-17T19:16:00.978449Z"
    }
   },
   "outputs": [],
   "source": [
    "NAME = \"\"\n",
    "COLLABORATORS = \"\""
   ]
  },
  {
   "cell_type": "markdown",
   "id": "b5c3148d",
   "metadata": {},
   "source": [
    "---"
   ]
  },
  {
   "cell_type": "markdown",
   "id": "a9bfcbd5-7ea2-41b2-a847-f4327e17ab82",
   "metadata": {
    "tags": []
   },
   "source": [
    "# **Problem Set 2**:  Random Numbers, Array Methods, Functions\n",
    "\n",
    "* This is a problem set.  You can work on it with the help of your classmates, Google, or ask us any questions you would like.  \n",
    "* I encourage discussion during these problem sets.    \n",
    "* In order for automatic grading and validation to work, it is very important that you make use of the exact variable names specified in the problem statement.\n",
    "* I will always place these variable names that must be used for automatic grading in **bold**"
   ]
  },
  {
   "cell_type": "code",
   "execution_count": 2,
   "id": "1a710a17-1378-4a7a-85b7-f518ed4d0bca",
   "metadata": {
    "execution": {
     "iopub.execute_input": "2025-10-17T19:16:00.981634Z",
     "iopub.status.busy": "2025-10-17T19:16:00.981225Z",
     "iopub.status.idle": "2025-10-17T19:16:01.051143Z",
     "shell.execute_reply": "2025-10-17T19:16:01.050417Z"
    }
   },
   "outputs": [],
   "source": [
    "# your going to need numpy and a random number generator to do this assignment \n",
    "import numpy as np \n",
    "from numpy import random\n",
    "rng = random.default_rng(seed = 2025)"
   ]
  },
  {
   "cell_type": "markdown",
   "id": "3d421e26",
   "metadata": {},
   "source": [
    "1. Create an array **hexdice** with 20 random numbers with values ranging from 1 to 16 (inclusive). Sort the array **hexdice** into descending order, i.e., from largest to smallest.  The answer should still be in the array **hexdice**"
   ]
  },
  {
   "cell_type": "code",
   "execution_count": 3,
   "id": "1cdaadd4",
   "metadata": {
    "deletable": false,
    "execution": {
     "iopub.execute_input": "2025-10-17T19:16:01.053677Z",
     "iopub.status.busy": "2025-10-17T19:16:01.053347Z",
     "iopub.status.idle": "2025-10-17T19:16:01.056382Z",
     "shell.execute_reply": "2025-10-17T19:16:01.055958Z"
    },
    "nbgrader": {
     "grade": false,
     "grade_id": "cell-2a0fce76f8a4fcc5",
     "locked": false,
     "schema_version": 3,
     "solution": true,
     "task": false
    }
   },
   "outputs": [],
   "source": [
    "### BEGIN SOLUTION\n",
    "hexdice = rng.uniform(1,17,20)\n",
    "hexdice = np.flip(np.sort(hexdice))\n",
    "### END SOLUTION"
   ]
  },
  {
   "cell_type": "code",
   "execution_count": 4,
   "id": "03472f19",
   "metadata": {
    "deletable": false,
    "editable": false,
    "execution": {
     "iopub.execute_input": "2025-10-17T19:16:01.058454Z",
     "iopub.status.busy": "2025-10-17T19:16:01.058070Z",
     "iopub.status.idle": "2025-10-17T19:16:01.060661Z",
     "shell.execute_reply": "2025-10-17T19:16:01.060270Z"
    },
    "nbgrader": {
     "grade": true,
     "grade_id": "cell-c55d53d08cf6fea6",
     "locked": true,
     "points": 3,
     "schema_version": 3,
     "solution": false,
     "task": false
    }
   },
   "outputs": [],
   "source": [
    "assert len(hexdice)== 20\n",
    "assert np.argmax(hexdice) == 0 "
   ]
  },
  {
   "cell_type": "markdown",
   "id": "4fce0eec",
   "metadata": {},
   "source": [
    "2. Write a function **normalize** that takes a numpy array **x** and divides the array by the maximum value in the array and returns an array containing these normalized values.  You should start your function with,\n",
    "\n",
    "       def normalize(x):\n",
    "\n",
    "Don't forget to indent your code under the def statement, and to end your function with a return statement.     "
   ]
  },
  {
   "cell_type": "code",
   "execution_count": 5,
   "id": "4222474d",
   "metadata": {
    "deletable": false,
    "execution": {
     "iopub.execute_input": "2025-10-17T19:16:01.062549Z",
     "iopub.status.busy": "2025-10-17T19:16:01.062364Z",
     "iopub.status.idle": "2025-10-17T19:16:01.064910Z",
     "shell.execute_reply": "2025-10-17T19:16:01.064512Z"
    },
    "nbgrader": {
     "grade": false,
     "grade_id": "cell-b6350c0476590c1e",
     "locked": false,
     "schema_version": 3,
     "solution": true,
     "task": false
    }
   },
   "outputs": [],
   "source": [
    "### BEGIN SOLUTION\n",
    "def normalize(x):\n",
    "    normx = x/np.max(x)\n",
    "    return normx\n",
    "### END SOLUTION"
   ]
  },
  {
   "cell_type": "code",
   "execution_count": 6,
   "id": "a078aebb",
   "metadata": {
    "deletable": false,
    "editable": false,
    "execution": {
     "iopub.execute_input": "2025-10-17T19:16:01.066750Z",
     "iopub.status.busy": "2025-10-17T19:16:01.066570Z",
     "iopub.status.idle": "2025-10-17T19:16:01.069356Z",
     "shell.execute_reply": "2025-10-17T19:16:01.068916Z"
    },
    "nbgrader": {
     "grade": true,
     "grade_id": "cell-a2fb6ef5fc1c48a6",
     "locked": true,
     "points": 4,
     "schema_version": 3,
     "solution": false,
     "task": false
    }
   },
   "outputs": [],
   "source": [
    "x = rng.uniform(0,10,20)\n",
    "normx = normalize(x) \n",
    "assert np.max(normx) == 1 "
   ]
  },
  {
   "cell_type": "markdown",
   "id": "d87b7d4e",
   "metadata": {},
   "source": [
    "3-5. It is challenging to come up with measures of excellence in individual defense in basketball.  One useful measure of individual defense is to compare the number of steals to fouls. Basketball players are often called for fouls when they try to steal the ball. There are only 4 players in NBA history including 2 active NBA players who steal more than they foul.    \n",
    "\n",
    "Jimmy Butler is a remarkable defender by this measure. The following 3 lists have the years, games, steals, and fouls per game for every season of Jimmy Butler's career (not including his rookie year when he didn't play). Run the next code block so you have the variables available to answer problems 3-5. Answer the questions by writing Python code and using numpy functions, not just by figuring it out in your head.    "
   ]
  },
  {
   "cell_type": "code",
   "execution_count": 7,
   "id": "31b9786b",
   "metadata": {
    "execution": {
     "iopub.execute_input": "2025-10-17T19:16:01.071906Z",
     "iopub.status.busy": "2025-10-17T19:16:01.071676Z",
     "iopub.status.idle": "2025-10-17T19:16:01.075323Z",
     "shell.execute_reply": "2025-10-17T19:16:01.074911Z"
    }
   },
   "outputs": [],
   "source": [
    "years = np.arange(2012,2026)\n",
    "games = [82,67,65,67,75,59,10,55,58,52,57,64,60,55]\n",
    "steals = [1.0,1.9,1.8,1.6,1.9,2.0,2.4,1.8,1.8,2.1,1.6,1.8,1.3,1.7]\n",
    "fouls = [1.2,1.6,1.7,1.9,1.5,1.3,1.8,1.7,1.4,1.4,1.5,1.3,1.1,1.4]\n",
    "\n"
   ]
  },
  {
   "cell_type": "markdown",
   "id": "4e859edb",
   "metadata": {},
   "source": [
    "3. What was the highest steals per game in Jimmy Butler's career. Save this in the variable **best_steals**  What year did Jimmy Butler average the most steals? Save this in the variable **best_year**.  How many fouls did he commit per game in this year?  Save this in the variable **fouls_best_year**"
   ]
  },
  {
   "cell_type": "code",
   "execution_count": 8,
   "id": "ef5a85f0",
   "metadata": {
    "deletable": false,
    "execution": {
     "iopub.execute_input": "2025-10-17T19:16:01.077873Z",
     "iopub.status.busy": "2025-10-17T19:16:01.077475Z",
     "iopub.status.idle": "2025-10-17T19:16:01.080288Z",
     "shell.execute_reply": "2025-10-17T19:16:01.079859Z"
    },
    "nbgrader": {
     "grade": false,
     "grade_id": "cell-1e855958e42b3792",
     "locked": false,
     "schema_version": 3,
     "solution": true,
     "task": false
    }
   },
   "outputs": [],
   "source": [
    "### BEGIN SOLUTION\n",
    "best_steals = np.max(steals)\n",
    "best_year = years[np.argmax(steals)]\n",
    "fouls_best_year = fouls[np.argmax(steals)]\n",
    "### END SOLUTION"
   ]
  },
  {
   "cell_type": "code",
   "execution_count": 9,
   "id": "ff713809",
   "metadata": {
    "deletable": false,
    "editable": false,
    "execution": {
     "iopub.execute_input": "2025-10-17T19:16:01.082555Z",
     "iopub.status.busy": "2025-10-17T19:16:01.082363Z",
     "iopub.status.idle": "2025-10-17T19:16:01.084775Z",
     "shell.execute_reply": "2025-10-17T19:16:01.084382Z"
    },
    "nbgrader": {
     "grade": true,
     "grade_id": "cell-044d3ded57226e50",
     "locked": true,
     "points": 1,
     "schema_version": 3,
     "solution": false,
     "task": false
    }
   },
   "outputs": [],
   "source": [
    "assert(best_steals > 2.2)"
   ]
  },
  {
   "cell_type": "code",
   "execution_count": 10,
   "id": "60a6808e-967b-4b7e-bfe2-24080960abbf",
   "metadata": {
    "deletable": false,
    "editable": false,
    "execution": {
     "iopub.execute_input": "2025-10-17T19:16:01.087241Z",
     "iopub.status.busy": "2025-10-17T19:16:01.086956Z",
     "iopub.status.idle": "2025-10-17T19:16:01.089469Z",
     "shell.execute_reply": "2025-10-17T19:16:01.088970Z"
    },
    "nbgrader": {
     "grade": true,
     "grade_id": "cell-dcf744191451f41c",
     "locked": true,
     "points": 2,
     "schema_version": 3,
     "solution": false,
     "task": false
    }
   },
   "outputs": [],
   "source": [
    "assert best_year == 2018"
   ]
  },
  {
   "cell_type": "code",
   "execution_count": 11,
   "id": "70115ec8",
   "metadata": {
    "deletable": false,
    "editable": false,
    "execution": {
     "iopub.execute_input": "2025-10-17T19:16:01.091954Z",
     "iopub.status.busy": "2025-10-17T19:16:01.091671Z",
     "iopub.status.idle": "2025-10-17T19:16:01.094014Z",
     "shell.execute_reply": "2025-10-17T19:16:01.093589Z"
    },
    "nbgrader": {
     "grade": true,
     "grade_id": "cell-9bdfb06a665f56c8",
     "locked": true,
     "points": 2,
     "schema_version": 3,
     "solution": false,
     "task": false
    }
   },
   "outputs": [],
   "source": [
    "assert fouls_best_year == 1.8"
   ]
  },
  {
   "cell_type": "markdown",
   "id": "f2956d08",
   "metadata": {},
   "source": [
    "4.    Write a function `weightedaverage` that computes a weighted average.\n",
    "*  input arguments are the array **data** and an array **weights**.\n",
    "*  The function should multiply the **data** by **weights**.\n",
    "*  Then it should sum that product using `np.sum`\n",
    "*  Then divide by the sum of the **weights** also obtained using `np.sum`.\n",
    "\n",
    "This is how you compute a *weighted average*. \n",
    "\n",
    "Start your function like this\n",
    "\n",
    "    def weightedaverage(data,weights):\n",
    "\n",
    "be sure to end the function with a `return` statement to return the weighted average value to global namespace.  "
   ]
  },
  {
   "cell_type": "code",
   "execution_count": 12,
   "id": "087cc3cf",
   "metadata": {
    "deletable": false,
    "execution": {
     "iopub.execute_input": "2025-10-17T19:16:01.096175Z",
     "iopub.status.busy": "2025-10-17T19:16:01.095890Z",
     "iopub.status.idle": "2025-10-17T19:16:01.098559Z",
     "shell.execute_reply": "2025-10-17T19:16:01.098147Z"
    },
    "nbgrader": {
     "grade": false,
     "grade_id": "cell-0d8820ed44c65f3f",
     "locked": false,
     "schema_version": 3,
     "solution": true,
     "task": false
    }
   },
   "outputs": [],
   "source": [
    "### BEGIN SOLUTION\n",
    "def weightedaverage(data,weights):\n",
    "    weighteddata = data*weights\n",
    "    wtavg = np.sum(weighteddata)/np.sum(weights)\n",
    "    return wtavg\n",
    "### END SOLUTION"
   ]
  },
  {
   "cell_type": "code",
   "execution_count": 13,
   "id": "ab847920",
   "metadata": {
    "deletable": false,
    "editable": false,
    "execution": {
     "iopub.execute_input": "2025-10-17T19:16:01.100822Z",
     "iopub.status.busy": "2025-10-17T19:16:01.100481Z",
     "iopub.status.idle": "2025-10-17T19:16:01.103311Z",
     "shell.execute_reply": "2025-10-17T19:16:01.102871Z"
    },
    "nbgrader": {
     "grade": true,
     "grade_id": "cell-ccc53701ebbe194a",
     "locked": true,
     "points": 2,
     "schema_version": 3,
     "solution": false,
     "task": false
    }
   },
   "outputs": [],
   "source": [
    "data = np.array([1,2,4])\n",
    "weights = np.array([2,2,1])\n",
    "wtavg = weightedaverage(data,weights)\n",
    "assert wtavg == 2"
   ]
  },
  {
   "cell_type": "code",
   "execution_count": 14,
   "id": "2c5cd74f",
   "metadata": {
    "deletable": false,
    "editable": false,
    "execution": {
     "iopub.execute_input": "2025-10-17T19:16:01.105584Z",
     "iopub.status.busy": "2025-10-17T19:16:01.105390Z",
     "iopub.status.idle": "2025-10-17T19:16:01.108193Z",
     "shell.execute_reply": "2025-10-17T19:16:01.107782Z"
    },
    "nbgrader": {
     "grade": true,
     "grade_id": "cell-324f1bd834a3b822",
     "locked": true,
     "points": 2,
     "schema_version": 3,
     "solution": false,
     "task": false
    }
   },
   "outputs": [],
   "source": [
    "data = np.array([1,2,3,4,5])\n",
    "weights = np.array([2,4,1,1,2])\n",
    "wtavg = weightedaverage(data,weights)\n",
    "assert wtavg == 2.7"
   ]
  },
  {
   "cell_type": "markdown",
   "id": "f1d6e283",
   "metadata": {},
   "source": [
    "5. We want to compute Jimmy Butler's career averages of steals and fouls.  The data provided are yearly averages.\n",
    "If we using a simple mean or median to compute Jimmy Butler's career average we dont take into account that he played a *different number of games each year*. For example. in one year he got injured and only played in 10 games (see **games**)\n",
    "* We want to *weight* the average of his yearly statistics by the number of games played each year. \n",
    "* The list **games** indicates the number of games played in each year.  \n",
    "* Use your function `weightedaverage` to compute a weighted average of Jimmy's steals per game in a variable named **average_steals** and a weighted average of the number of fouls per game in a variable named **average_fouls**.  "
   ]
  },
  {
   "cell_type": "code",
   "execution_count": 15,
   "id": "afcb7559",
   "metadata": {
    "deletable": false,
    "execution": {
     "iopub.execute_input": "2025-10-17T19:16:01.110497Z",
     "iopub.status.busy": "2025-10-17T19:16:01.110293Z",
     "iopub.status.idle": "2025-10-17T19:16:01.113010Z",
     "shell.execute_reply": "2025-10-17T19:16:01.112596Z"
    },
    "nbgrader": {
     "grade": false,
     "grade_id": "cell-a6cb876518bc27b9",
     "locked": false,
     "schema_version": 3,
     "solution": true,
     "task": false
    }
   },
   "outputs": [],
   "source": [
    "### BEGIN SOLUTION\n",
    "games = np.array(games)\n",
    "steals = np.array(steals)\n",
    "average_steals = weightedaverage(steals,games)\n",
    "average_fouls = weightedaverage(fouls,games)\n",
    "### END SOLUTION"
   ]
  },
  {
   "cell_type": "code",
   "execution_count": 16,
   "id": "8d53cd9c",
   "metadata": {
    "deletable": false,
    "editable": false,
    "execution": {
     "iopub.execute_input": "2025-10-17T19:16:01.114970Z",
     "iopub.status.busy": "2025-10-17T19:16:01.114656Z",
     "iopub.status.idle": "2025-10-17T19:16:01.117360Z",
     "shell.execute_reply": "2025-10-17T19:16:01.116935Z"
    },
    "nbgrader": {
     "grade": true,
     "grade_id": "cell-83ed95c7aa9c856a",
     "locked": true,
     "points": 4,
     "schema_version": 3,
     "solution": false,
     "task": false
    }
   },
   "outputs": [],
   "source": [
    "assert np.isclose(average_steals,1.71,rtol=0.05)\n",
    "assert np.isclose(average_fouls,1.47,rtol=0.05)\n"
   ]
  }
 ],
 "metadata": {
  "kernelspec": {
   "display_name": "Python 3 (ipykernel)",
   "language": "python",
   "name": "python3"
  },
  "language_info": {
   "codemirror_mode": {
    "name": "ipython",
    "version": 3
   },
   "file_extension": ".py",
   "mimetype": "text/x-python",
   "name": "python",
   "nbconvert_exporter": "python",
   "pygments_lexer": "ipython3",
   "version": "3.13.5"
  }
 },
 "nbformat": 4,
 "nbformat_minor": 5
}
