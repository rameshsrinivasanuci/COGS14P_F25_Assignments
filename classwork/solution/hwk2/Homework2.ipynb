{
 "cells": [
  {
   "cell_type": "markdown",
   "metadata": {},
   "source": [
    "Before you turn this problem in, make sure everything runs as expected. First, **restart the kernel** (in the menubar, select  **Restart** and **Clear All Outputs**, then select **Run All**).\n",
    "\n",
    "Make sure you fill in any place that says `YOUR CODE HERE` or \"YOUR ANSWER HERE\", as well as your name and collaborators below:"
   ]
  },
  {
   "cell_type": "code",
   "execution_count": 1,
   "metadata": {
    "execution": {
     "iopub.execute_input": "2025-10-17T19:15:53.504007Z",
     "iopub.status.busy": "2025-10-17T19:15:53.503730Z",
     "iopub.status.idle": "2025-10-17T19:15:53.507813Z",
     "shell.execute_reply": "2025-10-17T19:15:53.507334Z"
    }
   },
   "outputs": [],
   "source": [
    "NAME = \"\"\n",
    "COLLABORATORS = \"\""
   ]
  },
  {
   "cell_type": "markdown",
   "metadata": {},
   "source": [
    "---"
   ]
  },
  {
   "cell_type": "markdown",
   "metadata": {
    "tags": []
   },
   "source": [
    "# Homework 2 - Numpy Array Methods and Functions (45 pts)\n",
    "\n",
    "* In order for automatic grading and validation to work, it is very important that you make use of the exact variable names specified in the problem statement.\n",
    "* I will always place these variable names that must be used for automatic grading in **bold**\n",
    "* One of the goal of this assignment is for you to explore some numpy functions on your own.  \n",
    "* Specifically, I will be asking you to look up how to use some functions in numpy rather than providing examples.  \n",
    "* For these problem, I have hidden the tests (because otherwise you wont have to do research on the method/function).\n",
    "* To look up a function, i usually type in `numpy` and the function I am interested in e.g., `mean` in the browser search box, and I go look at the numpy docs.  \n",
    "* You dont have to know the exact name, just have key words and you will find it.\n",
    "* You can also type in complete sentences like, \"How do I compute mean in numpy?\""
   ]
  },
  {
   "cell_type": "markdown",
   "metadata": {
    "tags": []
   },
   "source": [
    "* Don't forget to  import the numpy module, and for this exercise, let's import the random submodule as a separate import "
   ]
  },
  {
   "cell_type": "code",
   "execution_count": 2,
   "metadata": {
    "execution": {
     "iopub.execute_input": "2025-10-17T19:15:53.510797Z",
     "iopub.status.busy": "2025-10-17T19:15:53.510523Z",
     "iopub.status.idle": "2025-10-17T19:15:53.577612Z",
     "shell.execute_reply": "2025-10-17T19:15:53.577203Z"
    }
   },
   "outputs": [],
   "source": [
    "import numpy as np\n",
    "from numpy import random"
   ]
  },
  {
   "cell_type": "markdown",
   "metadata": {
    "tags": []
   },
   "source": [
    "* Initialize the random number generator with a seed of your choice.  Enter any integer after the equal sign"
   ]
  },
  {
   "cell_type": "code",
   "execution_count": 3,
   "metadata": {
    "execution": {
     "iopub.execute_input": "2025-10-17T19:15:53.580039Z",
     "iopub.status.busy": "2025-10-17T19:15:53.579769Z",
     "iopub.status.idle": "2025-10-17T19:15:53.582485Z",
     "shell.execute_reply": "2025-10-17T19:15:53.582056Z"
    }
   },
   "outputs": [],
   "source": [
    "rng = random.default_rng(seed = 108)"
   ]
  },
  {
   "cell_type": "markdown",
   "metadata": {
    "tags": []
   },
   "source": [
    "1. Generate a vector **v** with 20 random floating point numbers ranging from 0 to 100. "
   ]
  },
  {
   "cell_type": "code",
   "execution_count": 4,
   "metadata": {
    "deletable": false,
    "execution": {
     "iopub.execute_input": "2025-10-17T19:15:53.584667Z",
     "iopub.status.busy": "2025-10-17T19:15:53.584475Z",
     "iopub.status.idle": "2025-10-17T19:15:53.587003Z",
     "shell.execute_reply": "2025-10-17T19:15:53.586586Z"
    },
    "nbgrader": {
     "grade": false,
     "grade_id": "cell-949dd6bbdddf3f52",
     "locked": false,
     "schema_version": 3,
     "solution": true,
     "task": false
    },
    "tags": []
   },
   "outputs": [],
   "source": [
    "### BEGIN SOLUTION\n",
    "v = rng.uniform(0,100,20)\n",
    "### END SOLUTION"
   ]
  },
  {
   "cell_type": "code",
   "execution_count": 5,
   "metadata": {
    "deletable": false,
    "editable": false,
    "execution": {
     "iopub.execute_input": "2025-10-17T19:15:53.589180Z",
     "iopub.status.busy": "2025-10-17T19:15:53.588838Z",
     "iopub.status.idle": "2025-10-17T19:15:53.591369Z",
     "shell.execute_reply": "2025-10-17T19:15:53.590948Z"
    },
    "nbgrader": {
     "grade": true,
     "grade_id": "cell-a1c300a8a17bc32e",
     "locked": true,
     "points": 2,
     "schema_version": 3,
     "solution": false,
     "task": false
    },
    "tags": []
   },
   "outputs": [],
   "source": [
    "assert v.size == 20\n",
    "assert v.dtype == 'float64'"
   ]
  },
  {
   "cell_type": "markdown",
   "metadata": {
    "tags": []
   },
   "source": [
    "2. Create a variable **max_v** which contains the maximum value in **v**, and the variable **index_max_v** which contatins the index of the element in the array v with maximum value."
   ]
  },
  {
   "cell_type": "code",
   "execution_count": 6,
   "metadata": {
    "deletable": false,
    "execution": {
     "iopub.execute_input": "2025-10-17T19:15:53.593547Z",
     "iopub.status.busy": "2025-10-17T19:15:53.593223Z",
     "iopub.status.idle": "2025-10-17T19:15:53.595840Z",
     "shell.execute_reply": "2025-10-17T19:15:53.595434Z"
    },
    "nbgrader": {
     "grade": false,
     "grade_id": "cell-899ca7f30b7c74bb",
     "locked": false,
     "schema_version": 3,
     "solution": true,
     "task": false
    },
    "tags": []
   },
   "outputs": [],
   "source": [
    "### BEGIN SOLUTION\n",
    "max_v = np.max(v)\n",
    "index_max_v = np.argmax(v)\n",
    "### END SOLUTION"
   ]
  },
  {
   "cell_type": "code",
   "execution_count": 7,
   "metadata": {
    "deletable": false,
    "editable": false,
    "execution": {
     "iopub.execute_input": "2025-10-17T19:15:53.598052Z",
     "iopub.status.busy": "2025-10-17T19:15:53.597643Z",
     "iopub.status.idle": "2025-10-17T19:15:53.600178Z",
     "shell.execute_reply": "2025-10-17T19:15:53.599760Z"
    },
    "nbgrader": {
     "grade": true,
     "grade_id": "cell-e2d44eba4fd02ec9",
     "locked": true,
     "points": 3,
     "schema_version": 3,
     "solution": false,
     "task": false
    }
   },
   "outputs": [],
   "source": [
    "assert v[index_max_v] == max_v"
   ]
  },
  {
   "cell_type": "markdown",
   "metadata": {},
   "source": [
    "3. Generate a matrix **M** with 5 rows and 3 columns containing random integers with values ranging from -10 to 10. Make sure your range includes -10 and 10.    "
   ]
  },
  {
   "cell_type": "code",
   "execution_count": 8,
   "metadata": {
    "deletable": false,
    "execution": {
     "iopub.execute_input": "2025-10-17T19:15:53.602452Z",
     "iopub.status.busy": "2025-10-17T19:15:53.602237Z",
     "iopub.status.idle": "2025-10-17T19:15:53.605019Z",
     "shell.execute_reply": "2025-10-17T19:15:53.604538Z"
    },
    "nbgrader": {
     "grade": false,
     "grade_id": "cell-67e5439ba4f59d6f",
     "locked": false,
     "schema_version": 3,
     "solution": true,
     "task": false
    }
   },
   "outputs": [],
   "source": [
    "### BEGIN SOLUTION\n",
    "M = rng.integers(-10,11,(5,3))\n",
    "### END SOLUTION"
   ]
  },
  {
   "cell_type": "code",
   "execution_count": 9,
   "metadata": {
    "deletable": false,
    "editable": false,
    "execution": {
     "iopub.execute_input": "2025-10-17T19:15:53.607285Z",
     "iopub.status.busy": "2025-10-17T19:15:53.606990Z",
     "iopub.status.idle": "2025-10-17T19:15:53.609681Z",
     "shell.execute_reply": "2025-10-17T19:15:53.609191Z"
    },
    "nbgrader": {
     "grade": true,
     "grade_id": "cell-701b6c2d5cdb702e",
     "locked": true,
     "points": 2,
     "schema_version": 3,
     "solution": false,
     "task": false
    }
   },
   "outputs": [],
   "source": [
    "assert M.shape[0] == 5\n",
    "assert M.shape[1] == 3"
   ]
  },
  {
   "cell_type": "markdown",
   "metadata": {
    "tags": []
   },
   "source": [
    "4. Create a variable **M_colmin** which is an array that contains the minimum value of each column of M.  Create a variable **M2_min** which contains the minimum value of the 2nd column of M "
   ]
  },
  {
   "cell_type": "code",
   "execution_count": 10,
   "metadata": {
    "deletable": false,
    "execution": {
     "iopub.execute_input": "2025-10-17T19:15:53.611958Z",
     "iopub.status.busy": "2025-10-17T19:15:53.611698Z",
     "iopub.status.idle": "2025-10-17T19:15:53.615996Z",
     "shell.execute_reply": "2025-10-17T19:15:53.615438Z"
    },
    "nbgrader": {
     "grade": false,
     "grade_id": "cell-536857c6d70008ea",
     "locked": false,
     "schema_version": 3,
     "solution": true,
     "task": false
    },
    "tags": []
   },
   "outputs": [
    {
     "name": "stdout",
     "output_type": "stream",
     "text": [
      "[-8 -9 -8]\n"
     ]
    }
   ],
   "source": [
    "### BEGIN SOLUTION\n",
    "M_colmin = np.min(M,axis=0)\n",
    "M2_min = np.min(M[:,1])\n",
    "print(M_colmin)\n",
    "#alternatively\n",
    "#M2_min = min(M[:,1])\n",
    "### END SOLUTION"
   ]
  },
  {
   "cell_type": "code",
   "execution_count": 11,
   "metadata": {
    "deletable": false,
    "editable": false,
    "execution": {
     "iopub.execute_input": "2025-10-17T19:15:53.653866Z",
     "iopub.status.busy": "2025-10-17T19:15:53.653622Z",
     "iopub.status.idle": "2025-10-17T19:15:53.656515Z",
     "shell.execute_reply": "2025-10-17T19:15:53.656066Z"
    },
    "nbgrader": {
     "grade": true,
     "grade_id": "cell-4c6f059b37e7c422",
     "locked": true,
     "points": 3,
     "schema_version": 3,
     "solution": false,
     "task": false
    },
    "tags": []
   },
   "outputs": [],
   "source": [
    "assert M_colmin.size == 3"
   ]
  },
  {
   "cell_type": "markdown",
   "metadata": {
    "tags": []
   },
   "source": [
    "### Computing Summary Statistics using numpy\n",
    "\n",
    "One of the goal of this assignment is for you to explore some numpy functions on your own.  Specifically, I will be asking you to look up in the either the numpy documentation, or by simply searching the web how to use some functions in numpy that compute simple summary statisics of data. \n",
    "\n",
    "* `mean`, compute the mean or average of data array \n",
    "* `median`, compute the middle value of a data array  \n",
    "* `percentile`, compute the value of the q-th percentile of an array  \n",
    "\n",
    "I am not going to provide any instruction on how to use them here.  The challenge for you here is to figure it out\n",
    "for yourself (you can ask for help after you have tried if it doesnt work.)  The internet is your friend.  \n"
   ]
  },
  {
   "cell_type": "markdown",
   "metadata": {
    "tags": []
   },
   "source": [
    "5.  Make a random number generator object called `rng` with seed = 77.  This is critical or the tests will fail!"
   ]
  },
  {
   "cell_type": "code",
   "execution_count": 12,
   "metadata": {
    "deletable": false,
    "execution": {
     "iopub.execute_input": "2025-10-17T19:15:53.658897Z",
     "iopub.status.busy": "2025-10-17T19:15:53.658672Z",
     "iopub.status.idle": "2025-10-17T19:15:53.661441Z",
     "shell.execute_reply": "2025-10-17T19:15:53.660989Z"
    },
    "nbgrader": {
     "grade": false,
     "grade_id": "cell-77926453c098db03",
     "locked": false,
     "schema_version": 3,
     "solution": true,
     "task": false
    },
    "tags": []
   },
   "outputs": [],
   "source": [
    "### BEGIN SOLUTION\n",
    "rng = random.default_rng(seed = 77)\n",
    "### END SOLUTION"
   ]
  },
  {
   "cell_type": "code",
   "execution_count": 13,
   "metadata": {
    "deletable": false,
    "editable": false,
    "execution": {
     "iopub.execute_input": "2025-10-17T19:15:53.663567Z",
     "iopub.status.busy": "2025-10-17T19:15:53.663365Z",
     "iopub.status.idle": "2025-10-17T19:15:53.666082Z",
     "shell.execute_reply": "2025-10-17T19:15:53.665662Z"
    },
    "nbgrader": {
     "grade": true,
     "grade_id": "cell-83c35258e2445e1c",
     "locked": true,
     "points": 2,
     "schema_version": 3,
     "solution": false,
     "task": false
    },
    "tags": []
   },
   "outputs": [],
   "source": [
    "assert rng.integers(-9,9,1) == -8\n",
    "### BEGIN HIDDEN TESTS\n",
    "rng = random.default_rng(seed = 77)\n",
    "### END HIDDEN TESTS"
   ]
  },
  {
   "cell_type": "markdown",
   "metadata": {
    "tags": []
   },
   "source": [
    "6.  Generate a vector **u** containing 50 random numbers from a uniform distribution ranging from 0 to 100.  Compute variables called **mean_u** and **median_u** that contain the mean and median of u using numpy functions `mean` and `median`. "
   ]
  },
  {
   "cell_type": "code",
   "execution_count": 14,
   "metadata": {
    "deletable": false,
    "execution": {
     "iopub.execute_input": "2025-10-17T19:15:53.668223Z",
     "iopub.status.busy": "2025-10-17T19:15:53.667945Z",
     "iopub.status.idle": "2025-10-17T19:15:53.675857Z",
     "shell.execute_reply": "2025-10-17T19:15:53.675442Z"
    },
    "nbgrader": {
     "grade": false,
     "grade_id": "cell-8b476f0c0588d39d",
     "locked": false,
     "schema_version": 3,
     "solution": true,
     "task": false
    },
    "tags": []
   },
   "outputs": [],
   "source": [
    "### BEGIN SOLUTION\n",
    "u = rng.uniform(0,100,50)\n",
    "mean_u = np.mean(u)\n",
    "median_u = np.median(u) \n",
    "### END SOLUTION"
   ]
  },
  {
   "cell_type": "code",
   "execution_count": 15,
   "metadata": {
    "deletable": false,
    "editable": false,
    "execution": {
     "iopub.execute_input": "2025-10-17T19:15:53.678077Z",
     "iopub.status.busy": "2025-10-17T19:15:53.677739Z",
     "iopub.status.idle": "2025-10-17T19:15:53.680438Z",
     "shell.execute_reply": "2025-10-17T19:15:53.680041Z"
    },
    "nbgrader": {
     "grade": true,
     "grade_id": "cell-c73933662d262383",
     "locked": true,
     "points": 3,
     "schema_version": 3,
     "solution": false,
     "task": false
    },
    "tags": []
   },
   "outputs": [],
   "source": [
    "assert np.size(u) == 50\n",
    "### BEGIN HIDDEN TESTS\n",
    "assert mean_u == np.mean(u)\n",
    "assert median_u == np.median(u) \n",
    "### END HIDDEN TESTS"
   ]
  },
  {
   "cell_type": "markdown",
   "metadata": {
    "tags": []
   },
   "source": [
    "7.  Generate a vector **v** containing 1000 random floating point numbers from a uniform distribution ranging from 0 to 100.  The objective of this exercise is to compute the 10th, 25th, 50th, 75th, and 90th percentile of **v** using `percentile`. The results should be placed in either an array or a list of length 5 called **v_percentiles**.  So, if i look at v_percentiles[0] it should be the 10th percentile, v_percentiles[1] should be 25th percentile, etc. The answers should make sense to you as approximately corresponding fractions of 100.    \n"
   ]
  },
  {
   "cell_type": "code",
   "execution_count": 16,
   "metadata": {
    "deletable": false,
    "execution": {
     "iopub.execute_input": "2025-10-17T19:15:53.682460Z",
     "iopub.status.busy": "2025-10-17T19:15:53.682274Z",
     "iopub.status.idle": "2025-10-17T19:15:53.685702Z",
     "shell.execute_reply": "2025-10-17T19:15:53.685345Z"
    },
    "nbgrader": {
     "grade": false,
     "grade_id": "cell-7233acdb712f93c7",
     "locked": false,
     "schema_version": 3,
     "solution": true,
     "task": false
    },
    "tags": []
   },
   "outputs": [],
   "source": [
    "### BEGIN SOLUTION\n",
    "v = rng.uniform(0,100,1000)\n",
    "prct = np.array([10,25,50,75,90])\n",
    "v_percentiles = np.percentile(v,prct)\n",
    "#Alternate Solution \n",
    "#v_percentiles = list() \n",
    "#v_percentiles.append(np.percentile(v,10))\n",
    "#v_percentiles.append(np.percentile(v,25))\n",
    "#v_percentiles.append(np.percentile(v,50))\n",
    "#v_percentiles.append(np.percentile(v,75))\n",
    "#v_percentiles.append(np.percentile(v,90))\n",
    "### END SOLUTION"
   ]
  },
  {
   "cell_type": "code",
   "execution_count": 17,
   "metadata": {
    "deletable": false,
    "editable": false,
    "execution": {
     "iopub.execute_input": "2025-10-17T19:15:53.687760Z",
     "iopub.status.busy": "2025-10-17T19:15:53.687486Z",
     "iopub.status.idle": "2025-10-17T19:15:53.689997Z",
     "shell.execute_reply": "2025-10-17T19:15:53.689620Z"
    },
    "nbgrader": {
     "grade": true,
     "grade_id": "cell-4b1c6fbb9a2022e6",
     "locked": true,
     "points": 3,
     "schema_version": 3,
     "solution": false,
     "task": false
    },
    "tags": []
   },
   "outputs": [],
   "source": [
    "assert np.size(v) == 1000\n",
    "### BEGIN HIDDEN TESTS\n",
    "assert np.size(v_percentiles) == 5\n",
    "### END HIDDEN TESTS"
   ]
  },
  {
   "cell_type": "markdown",
   "metadata": {
    "tags": []
   },
   "source": [
    "8.  Generate a matrix **dice** containing 100 random integers ranging from 1-6 for each of 9 dice.  There should be 100 rows and 9 columns, mimicking 100 rolls of 9 dice.    Compute the mean and median for each die (column) in variables named **dice_median**, **dice_mean**. . Hint: you need to specify the *axis* as explained in these functions   "
   ]
  },
  {
   "cell_type": "code",
   "execution_count": 18,
   "metadata": {
    "deletable": false,
    "execution": {
     "iopub.execute_input": "2025-10-17T19:15:53.692066Z",
     "iopub.status.busy": "2025-10-17T19:15:53.691791Z",
     "iopub.status.idle": "2025-10-17T19:15:53.694535Z",
     "shell.execute_reply": "2025-10-17T19:15:53.694121Z"
    },
    "nbgrader": {
     "grade": false,
     "grade_id": "cell-285c1ba6cc4a76dc",
     "locked": false,
     "schema_version": 3,
     "solution": true,
     "task": false
    },
    "tags": []
   },
   "outputs": [],
   "source": [
    "### BEGIN SOLUTION\n",
    "dice = rng.integers(1,7,(100,9))\n",
    "dice_mean = np.mean(dice,axis =0)\n",
    "dice_median = np.median(dice,axis =0)\n",
    "### END SOLUTION"
   ]
  },
  {
   "cell_type": "code",
   "execution_count": 19,
   "metadata": {
    "deletable": false,
    "editable": false,
    "execution": {
     "iopub.execute_input": "2025-10-17T19:15:53.696624Z",
     "iopub.status.busy": "2025-10-17T19:15:53.696306Z",
     "iopub.status.idle": "2025-10-17T19:15:53.699258Z",
     "shell.execute_reply": "2025-10-17T19:15:53.698866Z"
    },
    "nbgrader": {
     "grade": true,
     "grade_id": "cell-a17afefe6e70b188",
     "locked": true,
     "points": 3,
     "schema_version": 3,
     "solution": false,
     "task": false
    },
    "tags": []
   },
   "outputs": [],
   "source": [
    "assert np.size(dice_mean) == 9 \n",
    "### BEGIN HIDDEN TESTS\n",
    "assert np.all(dice_mean == np.mean(dice,axis =0))\n",
    "assert np.all(dice_median == np.median(dice,axis =0))\n",
    "### END HIDDEN TESTS"
   ]
  },
  {
   "cell_type": "markdown",
   "metadata": {
    "tags": []
   },
   "source": [
    "9. Using matrix **dice** generated in the problem above, compute the mean and median for each roll (row) of 9 dice as **roll_mean** and **roll_median**.   "
   ]
  },
  {
   "cell_type": "code",
   "execution_count": 20,
   "metadata": {
    "deletable": false,
    "execution": {
     "iopub.execute_input": "2025-10-17T19:15:53.701333Z",
     "iopub.status.busy": "2025-10-17T19:15:53.701072Z",
     "iopub.status.idle": "2025-10-17T19:15:53.703542Z",
     "shell.execute_reply": "2025-10-17T19:15:53.703145Z"
    },
    "nbgrader": {
     "grade": false,
     "grade_id": "cell-5e94a56d30b45dc2",
     "locked": false,
     "schema_version": 3,
     "solution": true,
     "task": false
    },
    "tags": []
   },
   "outputs": [],
   "source": [
    "### BEGIN SOLUTION\n",
    "roll_mean = np.mean(dice,axis =1)\n",
    "roll_median = np.median(dice,axis =1)\n",
    "### END SOLUTION"
   ]
  },
  {
   "cell_type": "code",
   "execution_count": 21,
   "metadata": {
    "deletable": false,
    "editable": false,
    "execution": {
     "iopub.execute_input": "2025-10-17T19:15:53.705463Z",
     "iopub.status.busy": "2025-10-17T19:15:53.705271Z",
     "iopub.status.idle": "2025-10-17T19:15:53.708027Z",
     "shell.execute_reply": "2025-10-17T19:15:53.707669Z"
    },
    "nbgrader": {
     "grade": true,
     "grade_id": "cell-4f00670b7db8e0e7",
     "locked": true,
     "points": 3,
     "schema_version": 3,
     "solution": false,
     "task": false
    },
    "tags": []
   },
   "outputs": [],
   "source": [
    "assert np.size(roll_mean) == 100 \n",
    "### BEGIN HIDDEN TESTS\n",
    "assert np.all(roll_mean == np.mean(dice,axis =1))\n",
    "assert np.all(roll_median == np.median(dice,axis =1))\n",
    "### END HIDDEN TESTS"
   ]
  },
  {
   "cell_type": "markdown",
   "metadata": {},
   "source": [
    "10. Create an array **v** containing 20 random integers between 10 and 99.  Find the index of the largest element of **v** and call it **imax**.  Replace the largest element of **v** with the value -1000.    "
   ]
  },
  {
   "cell_type": "code",
   "execution_count": 22,
   "metadata": {
    "deletable": false,
    "execution": {
     "iopub.execute_input": "2025-10-17T19:15:53.710088Z",
     "iopub.status.busy": "2025-10-17T19:15:53.709813Z",
     "iopub.status.idle": "2025-10-17T19:15:53.712255Z",
     "shell.execute_reply": "2025-10-17T19:15:53.711833Z"
    },
    "nbgrader": {
     "grade": false,
     "grade_id": "cell-55f6147e15a27d41",
     "locked": false,
     "schema_version": 3,
     "solution": true,
     "task": false
    }
   },
   "outputs": [],
   "source": [
    "### BEGIN SOLUTION\n",
    "v = rng.integers(10,100,20)\n",
    "imax = np.argmax(v)\n",
    "v[imax] = -1000\n",
    "### END SOLUTION"
   ]
  },
  {
   "cell_type": "code",
   "execution_count": 23,
   "metadata": {
    "deletable": false,
    "editable": false,
    "execution": {
     "iopub.execute_input": "2025-10-17T19:15:53.714310Z",
     "iopub.status.busy": "2025-10-17T19:15:53.714030Z",
     "iopub.status.idle": "2025-10-17T19:15:53.716650Z",
     "shell.execute_reply": "2025-10-17T19:15:53.716299Z"
    },
    "nbgrader": {
     "grade": true,
     "grade_id": "cell-4adda8593055c3ec",
     "locked": true,
     "points": 3,
     "schema_version": 3,
     "solution": false,
     "task": false
    }
   },
   "outputs": [],
   "source": [
    "assert imax >= 0\n",
    "### BEGIN HIDDEN TESTS\n",
    "assert np.min(v) == -1000\n",
    "assert np.argmin(v) == imax\n",
    "### END HIDDEN TESTS\n"
   ]
  },
  {
   "cell_type": "markdown",
   "metadata": {},
   "source": [
    "11.  Create list **x** containing the following numbers : 6, -5, -3.5, 10, 21.  Convert list **x** into a numpy array **x**.  Sort the array **x** into ascending (increasing) order.   The sorted result should be stored in the array **x**. (Remember = means, place the answer in the variable to the left of the equality).  "
   ]
  },
  {
   "cell_type": "code",
   "execution_count": 24,
   "metadata": {
    "deletable": false,
    "execution": {
     "iopub.execute_input": "2025-10-17T19:15:53.718569Z",
     "iopub.status.busy": "2025-10-17T19:15:53.718408Z",
     "iopub.status.idle": "2025-10-17T19:15:53.720737Z",
     "shell.execute_reply": "2025-10-17T19:15:53.720406Z"
    },
    "nbgrader": {
     "grade": false,
     "grade_id": "cell-91e53d4de169f0e8",
     "locked": false,
     "schema_version": 3,
     "solution": true,
     "task": false
    }
   },
   "outputs": [],
   "source": [
    "### BEGIN SOLUTION\n",
    "x = [6,-5,-3.5,10,21]\n",
    "x = np.array(x)\n",
    "x = np.sort(x)\n",
    "### END SOLUTION"
   ]
  },
  {
   "cell_type": "code",
   "execution_count": 25,
   "metadata": {
    "deletable": false,
    "editable": false,
    "execution": {
     "iopub.execute_input": "2025-10-17T19:15:53.722531Z",
     "iopub.status.busy": "2025-10-17T19:15:53.722371Z",
     "iopub.status.idle": "2025-10-17T19:15:53.724651Z",
     "shell.execute_reply": "2025-10-17T19:15:53.724296Z"
    },
    "nbgrader": {
     "grade": true,
     "grade_id": "cell-c1917bcc61a315bd",
     "locked": true,
     "points": 3,
     "schema_version": 3,
     "solution": false,
     "task": false
    }
   },
   "outputs": [],
   "source": [
    "assert x.size == 5\n",
    "assert x[-1] == 21\n",
    "assert x[0] == -5"
   ]
  },
  {
   "cell_type": "markdown",
   "metadata": {},
   "source": [
    "12. The array **height** and **weight** provide data on 5 males height (in inches) and weight (in lbs).  Sort **height** in increasing order and sort **weight** in the same order that was used to sort **height**, so that each subject is in the same position in both lists.  The resulting sorted lists should be stored in **height** and **weight**  "
   ]
  },
  {
   "cell_type": "code",
   "execution_count": 26,
   "metadata": {
    "deletable": false,
    "execution": {
     "iopub.execute_input": "2025-10-17T19:15:53.726537Z",
     "iopub.status.busy": "2025-10-17T19:15:53.726249Z",
     "iopub.status.idle": "2025-10-17T19:15:53.728838Z",
     "shell.execute_reply": "2025-10-17T19:15:53.728480Z"
    },
    "nbgrader": {
     "grade": false,
     "grade_id": "cell-6bda4567cc672bbd",
     "locked": false,
     "schema_version": 3,
     "solution": true,
     "task": false
    }
   },
   "outputs": [],
   "source": [
    "height = np.array([70,60,66,77,65])\n",
    "weight = np.array([160,120,150,190,165])\n",
    "### BEGIN SOLUTION \n",
    "horder = np.argsort(height)\n",
    "height = np.sort(height)\n",
    "weight = weight[horder]\n",
    "### END SOLUTION"
   ]
  },
  {
   "cell_type": "code",
   "execution_count": 27,
   "metadata": {
    "deletable": false,
    "editable": false,
    "execution": {
     "iopub.execute_input": "2025-10-17T19:15:53.730696Z",
     "iopub.status.busy": "2025-10-17T19:15:53.730528Z",
     "iopub.status.idle": "2025-10-17T19:15:53.732943Z",
     "shell.execute_reply": "2025-10-17T19:15:53.732460Z"
    },
    "nbgrader": {
     "grade": true,
     "grade_id": "cell-a6b7aef74fdea78b",
     "locked": true,
     "points": 2,
     "schema_version": 3,
     "solution": false,
     "task": false
    }
   },
   "outputs": [],
   "source": [
    "assert height[0] < height[-1]"
   ]
  },
  {
   "cell_type": "code",
   "execution_count": 28,
   "metadata": {
    "deletable": false,
    "editable": false,
    "execution": {
     "iopub.execute_input": "2025-10-17T19:15:53.735189Z",
     "iopub.status.busy": "2025-10-17T19:15:53.734822Z",
     "iopub.status.idle": "2025-10-17T19:15:53.737413Z",
     "shell.execute_reply": "2025-10-17T19:15:53.737003Z"
    },
    "nbgrader": {
     "grade": true,
     "grade_id": "cell-47ae0f959f468505",
     "locked": true,
     "points": 3,
     "schema_version": 3,
     "solution": false,
     "task": false
    }
   },
   "outputs": [],
   "source": [
    "assert weight[1] == 165"
   ]
  },
  {
   "cell_type": "markdown",
   "metadata": {},
   "source": [
    "13. Create a function called **logn** which computes the log of a number **x** with any base **n**.  \n",
    "Recall that you can compute the log with any base using the base 10 log as \n",
    "\n",
    "$ log_n(x) = \\frac{log_{10}(x)}{log_{10}(n)} $  \n",
    "\n",
    "The function **logn** should have input arguments **x** and **n** and should return the value of the logarithm. The base 10 log function can be accessed as `np.log10`"
   ]
  },
  {
   "cell_type": "code",
   "execution_count": 29,
   "metadata": {
    "deletable": false,
    "execution": {
     "iopub.execute_input": "2025-10-17T19:15:53.739612Z",
     "iopub.status.busy": "2025-10-17T19:15:53.739305Z",
     "iopub.status.idle": "2025-10-17T19:15:53.742106Z",
     "shell.execute_reply": "2025-10-17T19:15:53.741536Z"
    },
    "nbgrader": {
     "grade": false,
     "grade_id": "cell-2cad7741967d857d",
     "locked": false,
     "schema_version": 3,
     "solution": true,
     "task": false
    }
   },
   "outputs": [],
   "source": [
    "### BEGIN SOLUTION\n",
    "def logn(x,n):\n",
    "    log_n = np.log10(x)/np.log10(n)\n",
    "    return log_n\n",
    "### END SOLUTION"
   ]
  },
  {
   "cell_type": "code",
   "execution_count": 30,
   "metadata": {
    "deletable": false,
    "editable": false,
    "execution": {
     "iopub.execute_input": "2025-10-17T19:15:53.744193Z",
     "iopub.status.busy": "2025-10-17T19:15:53.743906Z",
     "iopub.status.idle": "2025-10-17T19:15:53.746334Z",
     "shell.execute_reply": "2025-10-17T19:15:53.745896Z"
    },
    "nbgrader": {
     "grade": true,
     "grade_id": "cell-16fad55aafadeaaf",
     "locked": true,
     "points": 3,
     "schema_version": 3,
     "solution": false,
     "task": false
    }
   },
   "outputs": [],
   "source": [
    "log_n = logn(4,2)\n",
    "assert log_n == 2\n",
    "log_n = logn(27,3)\n",
    "assert log_n == 3"
   ]
  },
  {
   "cell_type": "markdown",
   "metadata": {},
   "source": [
    "14.  Write a function called **circle_area** that computes the area of a circle given its radius **r**, using this formula\n",
    "$$ A = \\pi r^2 $$\n",
    "The function should have one input argument (**r**) and return the area **A**\n",
    "The input argument **r** should take a default value of 1.  \n",
    "The value of pi can be obtained from `np.pi` \n",
    "After writing and executing the definition of the function, test that it works with the three tests below "
   ]
  },
  {
   "cell_type": "code",
   "execution_count": 31,
   "metadata": {
    "deletable": false,
    "execution": {
     "iopub.execute_input": "2025-10-17T19:15:53.748262Z",
     "iopub.status.busy": "2025-10-17T19:15:53.748017Z",
     "iopub.status.idle": "2025-10-17T19:15:53.750373Z",
     "shell.execute_reply": "2025-10-17T19:15:53.749990Z"
    },
    "nbgrader": {
     "grade": false,
     "grade_id": "cell-b8e082e9caeb53b5",
     "locked": false,
     "schema_version": 3,
     "solution": true,
     "task": false
    }
   },
   "outputs": [],
   "source": [
    "### BEGIN SOLUTION\n",
    "def circle_area(r=1):\n",
    "    A = np.pi*r**2\n",
    "    return A\n",
    "### END SOLUTION"
   ]
  },
  {
   "cell_type": "code",
   "execution_count": 32,
   "metadata": {
    "deletable": false,
    "editable": false,
    "execution": {
     "iopub.execute_input": "2025-10-17T19:15:53.752217Z",
     "iopub.status.busy": "2025-10-17T19:15:53.751901Z",
     "iopub.status.idle": "2025-10-17T19:15:53.754213Z",
     "shell.execute_reply": "2025-10-17T19:15:53.753822Z"
    },
    "nbgrader": {
     "grade": true,
     "grade_id": "cell-1a15bb02e92343e4",
     "locked": true,
     "points": 1,
     "schema_version": 3,
     "solution": false,
     "task": false
    }
   },
   "outputs": [],
   "source": [
    "r = 2\n",
    "Area  = circle_area(r) \n",
    "assert Area == np.pi*r**2"
   ]
  },
  {
   "cell_type": "code",
   "execution_count": 33,
   "metadata": {
    "deletable": false,
    "editable": false,
    "execution": {
     "iopub.execute_input": "2025-10-17T19:15:53.756189Z",
     "iopub.status.busy": "2025-10-17T19:15:53.755825Z",
     "iopub.status.idle": "2025-10-17T19:15:53.758371Z",
     "shell.execute_reply": "2025-10-17T19:15:53.757778Z"
    },
    "nbgrader": {
     "grade": true,
     "grade_id": "cell-fa40f6f0fccaffb7",
     "locked": true,
     "points": 2,
     "schema_version": 3,
     "solution": false,
     "task": false
    }
   },
   "outputs": [],
   "source": [
    "Area = circle_area()\n",
    "assert Area == np.pi*1**2 "
   ]
  },
  {
   "cell_type": "code",
   "execution_count": 34,
   "metadata": {
    "deletable": false,
    "editable": false,
    "execution": {
     "iopub.execute_input": "2025-10-17T19:15:53.760264Z",
     "iopub.status.busy": "2025-10-17T19:15:53.759967Z",
     "iopub.status.idle": "2025-10-17T19:15:53.762546Z",
     "shell.execute_reply": "2025-10-17T19:15:53.762139Z"
    },
    "nbgrader": {
     "grade": true,
     "grade_id": "cell-eb8a5976f6339985",
     "locked": true,
     "points": 1,
     "schema_version": 3,
     "solution": false,
     "task": false
    }
   },
   "outputs": [],
   "source": [
    "Area = circle_area(r=3)\n",
    "assert Area == np.pi*3**2"
   ]
  },
  {
   "cell_type": "markdown",
   "metadata": {},
   "source": [
    "15.  Write a function called **cylinder_area** that computes the surface area of a the cylinder given input arguments, radius (**r**) and height (**h**).  \n",
    "\n",
    "The surface area of the cylinder is the area of the top and the bottom (both circles of radius **r**) added to area of the side of the cylinder.\n",
    "\n",
    "The area of the side of the cylinder is given as $2 \\pi rh$ where **h** is the height of the cylinder \n",
    "\n",
    "Your new function **cylinder_area** should make use of the function **circle_area** to get the area of the top and bottom of the cylinder.  "
   ]
  },
  {
   "cell_type": "code",
   "execution_count": 35,
   "metadata": {
    "deletable": false,
    "execution": {
     "iopub.execute_input": "2025-10-17T19:15:53.764504Z",
     "iopub.status.busy": "2025-10-17T19:15:53.764222Z",
     "iopub.status.idle": "2025-10-17T19:15:53.766603Z",
     "shell.execute_reply": "2025-10-17T19:15:53.766227Z"
    },
    "nbgrader": {
     "grade": false,
     "grade_id": "cell-49b9912d6f15a4cb",
     "locked": false,
     "schema_version": 3,
     "solution": true,
     "task": false
    }
   },
   "outputs": [],
   "source": [
    "### BEGIN SOLUTION\n",
    "def cylinder_area(r,h):\n",
    "    A = 2*circle_area(r)+2*np.pi*r*h\n",
    "    return A\n",
    "### END SOLUTION"
   ]
  },
  {
   "cell_type": "code",
   "execution_count": 36,
   "metadata": {
    "deletable": false,
    "editable": false,
    "execution": {
     "iopub.execute_input": "2025-10-17T19:15:53.768579Z",
     "iopub.status.busy": "2025-10-17T19:15:53.768209Z",
     "iopub.status.idle": "2025-10-17T19:15:53.770639Z",
     "shell.execute_reply": "2025-10-17T19:15:53.770281Z"
    },
    "nbgrader": {
     "grade": true,
     "grade_id": "cell-37a43daa410f31df",
     "locked": true,
     "points": 3,
     "schema_version": 3,
     "solution": false,
     "task": false
    }
   },
   "outputs": [],
   "source": [
    "assert cylinder_area(r=2,h=1) == 12*np.pi"
   ]
  }
 ],
 "metadata": {
  "kernelspec": {
   "display_name": "Python 3 (ipykernel)",
   "language": "python",
   "name": "python3"
  },
  "language_info": {
   "codemirror_mode": {
    "name": "ipython",
    "version": 3
   },
   "file_extension": ".py",
   "mimetype": "text/x-python",
   "name": "python",
   "nbconvert_exporter": "python",
   "pygments_lexer": "ipython3",
   "version": "3.13.5"
  }
 },
 "nbformat": 4,
 "nbformat_minor": 4
}
