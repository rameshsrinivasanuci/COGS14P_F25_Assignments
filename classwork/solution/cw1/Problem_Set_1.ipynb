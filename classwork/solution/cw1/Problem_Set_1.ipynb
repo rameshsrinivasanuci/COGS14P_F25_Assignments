{
 "cells": [
  {
   "cell_type": "markdown",
   "id": "46823236",
   "metadata": {},
   "source": [
    "Before you turn this problem in, make sure everything runs as expected. First, **restart the kernel** (in the menubar, select  **Restart** and **Clear All Outputs**, then select **Run All**).\n",
    "\n",
    "Make sure you fill in any place that says `YOUR CODE HERE` or \"YOUR ANSWER HERE\", as well as your name and collaborators below:"
   ]
  },
  {
   "cell_type": "code",
   "execution_count": 1,
   "id": "c88c33f0",
   "metadata": {
    "execution": {
     "iopub.execute_input": "2025-10-13T19:59:42.001745Z",
     "iopub.status.busy": "2025-10-13T19:59:42.001430Z",
     "iopub.status.idle": "2025-10-13T19:59:42.006294Z",
     "shell.execute_reply": "2025-10-13T19:59:42.005451Z"
    }
   },
   "outputs": [],
   "source": [
    "NAME = \"\"\n",
    "COLLABORATORS = \"\""
   ]
  },
  {
   "cell_type": "markdown",
   "id": "9796c08e",
   "metadata": {},
   "source": [
    "---"
   ]
  },
  {
   "cell_type": "markdown",
   "id": "a9bfcbd5-7ea2-41b2-a847-f4327e17ab82",
   "metadata": {
    "tags": []
   },
   "source": [
    "# **Problem Set 1**:  List, Arrays, and Indexing Methods\n",
    "\n",
    "### This is a problem set.  You can work on it with the help of your classmates, Google, or ask me any questions you would like. \n",
    "### There are some new methods introduced in the problem set. \n",
    "### I encourage discussion during these problem sets.   \n",
    "### The problem set is due at 2:50 pm.   \n",
    "### However, you may continue to work on problems you dont finish, or you want to correct up to Wednesday. You will get 1/2 credit for that additional work.   \n",
    "### VERY IMPORTANT\n",
    "### In order for automatic grading and validation to work, it is very important that you make use of the exact variable names specified in the problem statement.\n",
    "### I will always place these variable names that must be used for automatic grading in **bold**"
   ]
  },
  {
   "cell_type": "code",
   "execution_count": 2,
   "id": "1a710a17-1378-4a7a-85b7-f518ed4d0bca",
   "metadata": {
    "execution": {
     "iopub.execute_input": "2025-10-13T19:59:42.009622Z",
     "iopub.status.busy": "2025-10-13T19:59:42.009372Z",
     "iopub.status.idle": "2025-10-13T19:59:42.042670Z",
     "shell.execute_reply": "2025-10-13T19:59:42.042251Z"
    }
   },
   "outputs": [],
   "source": [
    "# your going to need numpy to do this assignment \n",
    "import numpy as np \n",
    "#frankly, in this class, you will always need numpy.  "
   ]
  },
  {
   "cell_type": "markdown",
   "id": "3d421e26",
   "metadata": {},
   "source": [
    "1. Create a list called **food** with the following elements 'onion', 'egg', 'bacon', 'tomato', 'ham', 'cheese'. "
   ]
  },
  {
   "cell_type": "code",
   "execution_count": 3,
   "id": "1cdaadd4",
   "metadata": {
    "deletable": false,
    "execution": {
     "iopub.execute_input": "2025-10-13T19:59:42.044089Z",
     "iopub.status.busy": "2025-10-13T19:59:42.043942Z",
     "iopub.status.idle": "2025-10-13T19:59:42.045988Z",
     "shell.execute_reply": "2025-10-13T19:59:42.045689Z"
    },
    "nbgrader": {
     "grade": false,
     "grade_id": "cell-2a0fce76f8a4fcc5",
     "locked": false,
     "schema_version": 3,
     "solution": true,
     "task": false
    }
   },
   "outputs": [],
   "source": [
    "### BEGIN SOLUTION\n",
    "food = ['onion','egg','bacon','tomato','ham','cheese']\n",
    "### END SOLUTION"
   ]
  },
  {
   "cell_type": "code",
   "execution_count": 4,
   "id": "03472f19",
   "metadata": {
    "deletable": false,
    "editable": false,
    "execution": {
     "iopub.execute_input": "2025-10-13T19:59:42.047168Z",
     "iopub.status.busy": "2025-10-13T19:59:42.047072Z",
     "iopub.status.idle": "2025-10-13T19:59:42.048883Z",
     "shell.execute_reply": "2025-10-13T19:59:42.048597Z"
    },
    "nbgrader": {
     "grade": true,
     "grade_id": "cell-c55d53d08cf6fea6",
     "locked": true,
     "points": 3,
     "schema_version": 3,
     "solution": false,
     "task": false
    }
   },
   "outputs": [],
   "source": [
    "assert len(food)== 6"
   ]
  },
  {
   "cell_type": "markdown",
   "id": "4fce0eec",
   "metadata": {},
   "source": [
    "2. Use *indexing* into the list **food** to make a new list **meat** containing only 'bacon' and 'ham'. Again, using indexing, make a list **veggie** containing 'tomato' and 'onion' in that order. "
   ]
  },
  {
   "cell_type": "code",
   "execution_count": 5,
   "id": "4222474d",
   "metadata": {
    "deletable": false,
    "execution": {
     "iopub.execute_input": "2025-10-13T19:59:42.050059Z",
     "iopub.status.busy": "2025-10-13T19:59:42.049942Z",
     "iopub.status.idle": "2025-10-13T19:59:42.051858Z",
     "shell.execute_reply": "2025-10-13T19:59:42.051569Z"
    },
    "nbgrader": {
     "grade": false,
     "grade_id": "cell-b6350c0476590c1e",
     "locked": false,
     "schema_version": 3,
     "solution": true,
     "task": false
    }
   },
   "outputs": [],
   "source": [
    "### BEGIN SOLUTION\n",
    "meat = list()\n",
    "meat.append(food[2])\n",
    "meat.append(food[4])\n",
    "veggie = list()\n",
    "veggie.append(food[3])\n",
    "veggie.append(food[0])\n",
    "### END SOLUTION"
   ]
  },
  {
   "cell_type": "code",
   "execution_count": 6,
   "id": "a078aebb",
   "metadata": {
    "deletable": false,
    "editable": false,
    "execution": {
     "iopub.execute_input": "2025-10-13T19:59:42.053064Z",
     "iopub.status.busy": "2025-10-13T19:59:42.052823Z",
     "iopub.status.idle": "2025-10-13T19:59:42.054584Z",
     "shell.execute_reply": "2025-10-13T19:59:42.054338Z"
    },
    "nbgrader": {
     "grade": true,
     "grade_id": "cell-a2fb6ef5fc1c48a6",
     "locked": true,
     "points": 2,
     "schema_version": 3,
     "solution": false,
     "task": false
    }
   },
   "outputs": [],
   "source": [
    "assert meat[0] == 'bacon'\n",
    "assert len(meat) == 2"
   ]
  },
  {
   "cell_type": "code",
   "execution_count": 7,
   "id": "ebd6b18c-9d29-455f-9d24-692480d69412",
   "metadata": {
    "deletable": false,
    "editable": false,
    "execution": {
     "iopub.execute_input": "2025-10-13T19:59:42.055449Z",
     "iopub.status.busy": "2025-10-13T19:59:42.055322Z",
     "iopub.status.idle": "2025-10-13T19:59:42.057082Z",
     "shell.execute_reply": "2025-10-13T19:59:42.056764Z"
    },
    "nbgrader": {
     "grade": true,
     "grade_id": "cell-6a99beb4a531ef02",
     "locked": true,
     "points": 2,
     "schema_version": 3,
     "solution": false,
     "task": false
    }
   },
   "outputs": [],
   "source": [
    "assert veggie[0] == 'tomato'\n",
    "assert len(veggie) == 2"
   ]
  },
  {
   "cell_type": "markdown",
   "id": "d87b7d4e",
   "metadata": {},
   "source": [
    "3. Create a numpy array called **numbers** containing the numbers 6,24,13,16,8,10,21 in that order. Create an array called **skip1** that starts at element with index 0 and takes every other element of the array **numbers**, by using the `start:stop:step` syntax to index into the array."
   ]
  },
  {
   "cell_type": "code",
   "execution_count": 8,
   "id": "31b9786b",
   "metadata": {
    "deletable": false,
    "execution": {
     "iopub.execute_input": "2025-10-13T19:59:42.058363Z",
     "iopub.status.busy": "2025-10-13T19:59:42.058278Z",
     "iopub.status.idle": "2025-10-13T19:59:42.060082Z",
     "shell.execute_reply": "2025-10-13T19:59:42.059771Z"
    },
    "nbgrader": {
     "grade": false,
     "grade_id": "cell-c9c71eda64dac60b",
     "locked": false,
     "schema_version": 3,
     "solution": true,
     "task": false
    }
   },
   "outputs": [],
   "source": [
    "### BEGIN SOLUTION\n",
    "numbers = np.array([6,24,13,16,8,10,21])\n",
    "skip1 = numbers[0:7:2] #note this syntax will get you indices 0,2,4,6\n",
    "### END SOLUTION"
   ]
  },
  {
   "cell_type": "code",
   "execution_count": 9,
   "id": "ff713809",
   "metadata": {
    "deletable": false,
    "editable": false,
    "execution": {
     "iopub.execute_input": "2025-10-13T19:59:42.061434Z",
     "iopub.status.busy": "2025-10-13T19:59:42.061312Z",
     "iopub.status.idle": "2025-10-13T19:59:42.062967Z",
     "shell.execute_reply": "2025-10-13T19:59:42.062682Z"
    },
    "nbgrader": {
     "grade": true,
     "grade_id": "cell-044d3ded57226e50",
     "locked": true,
     "points": 1,
     "schema_version": 3,
     "solution": false,
     "task": false
    }
   },
   "outputs": [],
   "source": [
    "assert len(numbers) == 7"
   ]
  },
  {
   "cell_type": "code",
   "execution_count": 10,
   "id": "dc355488",
   "metadata": {
    "deletable": false,
    "editable": false,
    "execution": {
     "iopub.execute_input": "2025-10-13T19:59:42.064503Z",
     "iopub.status.busy": "2025-10-13T19:59:42.064357Z",
     "iopub.status.idle": "2025-10-13T19:59:42.066034Z",
     "shell.execute_reply": "2025-10-13T19:59:42.065748Z"
    },
    "nbgrader": {
     "grade": true,
     "grade_id": "cell-3bb4e599e35e1645",
     "locked": true,
     "points": 2,
     "schema_version": 3,
     "solution": false,
     "task": false
    }
   },
   "outputs": [],
   "source": [
    "assert len(skip1) == 4\n",
    "assert skip1[-1] == 21\n",
    "assert skip1[1] == 13"
   ]
  },
  {
   "cell_type": "markdown",
   "id": "92ff343a",
   "metadata": {},
   "source": [
    "4. Make a numpy array called **z** using the numpy function `linspace`, containing values from -100 to 100, including -100 and 100, in steps of 10.  "
   ]
  },
  {
   "cell_type": "code",
   "execution_count": 11,
   "id": "3f9ae5d9",
   "metadata": {
    "deletable": false,
    "execution": {
     "iopub.execute_input": "2025-10-13T19:59:42.067357Z",
     "iopub.status.busy": "2025-10-13T19:59:42.067275Z",
     "iopub.status.idle": "2025-10-13T19:59:42.068991Z",
     "shell.execute_reply": "2025-10-13T19:59:42.068739Z"
    },
    "nbgrader": {
     "grade": false,
     "grade_id": "cell-f95007e3ee1a7d98",
     "locked": false,
     "schema_version": 3,
     "solution": true,
     "task": false
    }
   },
   "outputs": [],
   "source": [
    "### BEGIN SOLUTION\n",
    "z = np.linspace(-100,100,21)\n",
    "### END SOLUTION"
   ]
  },
  {
   "cell_type": "code",
   "execution_count": 12,
   "id": "1cb4fd87",
   "metadata": {
    "deletable": false,
    "editable": false,
    "execution": {
     "iopub.execute_input": "2025-10-13T19:59:42.069993Z",
     "iopub.status.busy": "2025-10-13T19:59:42.069912Z",
     "iopub.status.idle": "2025-10-13T19:59:42.071631Z",
     "shell.execute_reply": "2025-10-13T19:59:42.071377Z"
    },
    "nbgrader": {
     "grade": true,
     "grade_id": "cell-536cfe4c84bf740a",
     "locked": true,
     "points": 3,
     "schema_version": 3,
     "solution": false,
     "task": false
    }
   },
   "outputs": [],
   "source": [
    "assert np.all(np.diff(z) == 10)\n",
    "### BEGIN HIDDEN TESTS\n",
    "assert np.size(z) == 21\n",
    "### END HIDDEN TESTS"
   ]
  },
  {
   "cell_type": "markdown",
   "id": "d0f3df9b",
   "metadata": {},
   "source": [
    "5. Create a numpy array **x** with all the odd numbers less than 20 using the numpy function `arange`.  "
   ]
  },
  {
   "cell_type": "code",
   "execution_count": 13,
   "id": "6cb1c3e1",
   "metadata": {
    "deletable": false,
    "execution": {
     "iopub.execute_input": "2025-10-13T19:59:42.072583Z",
     "iopub.status.busy": "2025-10-13T19:59:42.072374Z",
     "iopub.status.idle": "2025-10-13T19:59:42.074163Z",
     "shell.execute_reply": "2025-10-13T19:59:42.073855Z"
    },
    "nbgrader": {
     "grade": false,
     "grade_id": "cell-6bfea95ba011db9d",
     "locked": false,
     "schema_version": 3,
     "solution": true,
     "task": false
    }
   },
   "outputs": [],
   "source": [
    "### BEGIN SOLUTION\n",
    "x = np.arange(1,20,2)\n",
    "### END SOLUTION "
   ]
  },
  {
   "cell_type": "code",
   "execution_count": 14,
   "id": "de3b2a03",
   "metadata": {
    "deletable": false,
    "editable": false,
    "execution": {
     "iopub.execute_input": "2025-10-13T19:59:42.075227Z",
     "iopub.status.busy": "2025-10-13T19:59:42.075043Z",
     "iopub.status.idle": "2025-10-13T19:59:42.076781Z",
     "shell.execute_reply": "2025-10-13T19:59:42.076506Z"
    },
    "nbgrader": {
     "grade": true,
     "grade_id": "cell-925a224d993057b4",
     "locked": true,
     "points": 3,
     "schema_version": 3,
     "solution": false,
     "task": false
    }
   },
   "outputs": [],
   "source": [
    "assert ~np.any(x%2 == 0)"
   ]
  },
  {
   "cell_type": "markdown",
   "id": "f2956d08",
   "metadata": {},
   "source": [
    "6. Create an array **power** than has all of the powers of 2 from $2^1$ to $2^8$.  There are a number of ways you could tackle this problem and I will accept any of them as long as you produce the array by calculating the powers using python code. "
   ]
  },
  {
   "cell_type": "code",
   "execution_count": 15,
   "id": "afcb7559",
   "metadata": {
    "deletable": false,
    "execution": {
     "iopub.execute_input": "2025-10-13T19:59:42.077870Z",
     "iopub.status.busy": "2025-10-13T19:59:42.077696Z",
     "iopub.status.idle": "2025-10-13T19:59:42.079414Z",
     "shell.execute_reply": "2025-10-13T19:59:42.079159Z"
    },
    "nbgrader": {
     "grade": false,
     "grade_id": "cell-a6cb876518bc27b9",
     "locked": false,
     "schema_version": 3,
     "solution": true,
     "task": false
    }
   },
   "outputs": [],
   "source": [
    "### BEGIN SOLUTION\n",
    "exponents = np.arange(1,9,1)\n",
    "power = 2**exponents\n",
    "### END SOLUTION"
   ]
  },
  {
   "cell_type": "code",
   "execution_count": 16,
   "id": "8d53cd9c",
   "metadata": {
    "deletable": false,
    "editable": false,
    "execution": {
     "iopub.execute_input": "2025-10-13T19:59:42.080427Z",
     "iopub.status.busy": "2025-10-13T19:59:42.080257Z",
     "iopub.status.idle": "2025-10-13T19:59:42.082087Z",
     "shell.execute_reply": "2025-10-13T19:59:42.081775Z"
    },
    "nbgrader": {
     "grade": true,
     "grade_id": "cell-83ed95c7aa9c856a",
     "locked": true,
     "points": 4,
     "schema_version": 3,
     "solution": false,
     "task": false
    }
   },
   "outputs": [],
   "source": [
    "assert len(power) == 8\n",
    "assert np,max(power) == 2**8\n",
    "assert np.min(power) == 2"
   ]
  }
 ],
 "metadata": {
  "kernelspec": {
   "display_name": "Python 3 (ipykernel)",
   "language": "python",
   "name": "python3"
  },
  "language_info": {
   "codemirror_mode": {
    "name": "ipython",
    "version": 3
   },
   "file_extension": ".py",
   "mimetype": "text/x-python",
   "name": "python",
   "nbconvert_exporter": "python",
   "pygments_lexer": "ipython3",
   "version": "3.13.5"
  }
 },
 "nbformat": 4,
 "nbformat_minor": 5
}
